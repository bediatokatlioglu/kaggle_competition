{
 "cells": [
  {
   "cell_type": "markdown",
   "metadata": {},
   "source": [
    "# 20.Proje-WHO Life Expectancy Prediction-Hayat Beklentisi Tahmini"
   ]
  },
  {
   "cell_type": "code",
   "execution_count": 1,
   "metadata": {
    "execution": {
     "iopub.execute_input": "2023-12-10T15:23:24.849260Z",
     "iopub.status.busy": "2023-12-10T15:23:24.848933Z",
     "iopub.status.idle": "2023-12-10T15:23:26.544641Z",
     "shell.execute_reply": "2023-12-10T15:23:26.543602Z",
     "shell.execute_reply.started": "2023-12-10T15:23:24.849233Z"
    }
   },
   "outputs": [],
   "source": [
    "import pandas as pd\n",
    "import numpy as np\n",
    "import matplotlib.pyplot as plt\n",
    "import seaborn as sns\n",
    "import warnings\n",
    "warnings.filterwarnings(\"ignore\")\n",
    "pd.set_option(\"display.max_columns\",100)"
   ]
  },
  {
   "cell_type": "markdown",
   "metadata": {},
   "source": [
    "Bu veri setinde, \"Life expectancy\" (Hayat Beklentisi) sütununu tahmin etme görevi olduğunu belirtiyor. Yani, diğer veri seti özelliklerini kullanarak bir model oluşturup, hayat beklentisini tahmin etmek amaçlanmaktadır. \"Life expectancy\" sütunu, her bir girişte ülkenin belirli bir yıl ve durumu (gelişmiş veya gelişmekte olan) için tahmin edilen ortalama yaşam süresini içermektedir. Bu, genellikle bir ülkedeki sağlık durumunu ölçmek için kullanılan önemli bir göstergedir."
   ]
  },
  {
   "cell_type": "code",
   "execution_count": 2,
   "metadata": {
    "_cell_guid": "b1076dfc-b9ad-4769-8c92-a6c4dae69d19",
    "_uuid": "8f2839f25d086af736a60e9eeb907d3b93b6e0e5",
    "execution": {
     "iopub.execute_input": "2023-12-10T15:23:26.546836Z",
     "iopub.status.busy": "2023-12-10T15:23:26.546206Z",
     "iopub.status.idle": "2023-12-10T15:23:26.555077Z",
     "shell.execute_reply": "2023-12-10T15:23:26.553510Z",
     "shell.execute_reply.started": "2023-12-10T15:23:26.546807Z"
    }
   },
   "outputs": [
    {
     "name": "stdout",
     "output_type": "stream",
     "text": [
      "/kaggle/input/who-life-expectancy-prediction/training data.csv\n",
      "/kaggle/input/who-life-expectancy-prediction/testing data.csv\n"
     ]
    }
   ],
   "source": [
    "# This Python 3 environment comes with many helpful analytics libraries installed\n",
    "# It is defined by the kaggle/python Docker image: https://github.com/kaggle/docker-python\n",
    "# For example, here's several helpful packages to load\n",
    "\n",
    "import numpy as np # linear algebra\n",
    "import pandas as pd # data processing, CSV file I/O (e.g. pd.read_csv)\n",
    "\n",
    "# Input data files are available in the read-only \"../input/\" directory\n",
    "# For example, running this (by clicking run or pressing Shift+Enter) will list all files under the input directory\n",
    "\n",
    "import os\n",
    "for dirname, _, filenames in os.walk('/kaggle/input'):\n",
    "    for filename in filenames:\n",
    "        print(os.path.join(dirname, filename))\n",
    "\n",
    "# You can write up to 20GB to the current directory (/kaggle/working/) that gets preserved as output when you create a version using \"Save & Run All\" \n",
    "# You can also write temporary files to /kaggle/temp/, but they won't be saved outside of the current session"
   ]
  },
  {
   "cell_type": "code",
   "execution_count": 3,
   "metadata": {
    "execution": {
     "iopub.execute_input": "2023-12-10T15:23:26.558035Z",
     "iopub.status.busy": "2023-12-10T15:23:26.556998Z",
     "iopub.status.idle": "2023-12-10T15:23:26.608194Z",
     "shell.execute_reply": "2023-12-10T15:23:26.606969Z",
     "shell.execute_reply.started": "2023-12-10T15:23:26.557997Z"
    }
   },
   "outputs": [],
   "source": [
    "dftrain=pd.read_csv(\"/kaggle/input/who-life-expectancy-prediction/training data.csv\")\n",
    "dftest=pd.read_csv(\"/kaggle/input/who-life-expectancy-prediction/testing data.csv\")"
   ]
  },
  {
   "cell_type": "code",
   "execution_count": 4,
   "metadata": {
    "execution": {
     "iopub.execute_input": "2023-12-10T15:23:26.611404Z",
     "iopub.status.busy": "2023-12-10T15:23:26.610788Z",
     "iopub.status.idle": "2023-12-10T15:23:26.652526Z",
     "shell.execute_reply": "2023-12-10T15:23:26.651140Z",
     "shell.execute_reply.started": "2023-12-10T15:23:26.611374Z"
    }
   },
   "outputs": [
    {
     "data": {
      "text/html": [
       "<div>\n",
       "<style scoped>\n",
       "    .dataframe tbody tr th:only-of-type {\n",
       "        vertical-align: middle;\n",
       "    }\n",
       "\n",
       "    .dataframe tbody tr th {\n",
       "        vertical-align: top;\n",
       "    }\n",
       "\n",
       "    .dataframe thead th {\n",
       "        text-align: right;\n",
       "    }\n",
       "</style>\n",
       "<table border=\"1\" class=\"dataframe\">\n",
       "  <thead>\n",
       "    <tr style=\"text-align: right;\">\n",
       "      <th></th>\n",
       "      <th>Country</th>\n",
       "      <th>Year</th>\n",
       "      <th>Status</th>\n",
       "      <th>Life expectancy</th>\n",
       "      <th>Adult Mortality</th>\n",
       "      <th>infant deaths</th>\n",
       "      <th>Alcohol</th>\n",
       "      <th>percentage expenditure</th>\n",
       "      <th>Hepatitis B</th>\n",
       "      <th>Measles</th>\n",
       "      <th>BMI</th>\n",
       "      <th>under-five deaths</th>\n",
       "      <th>Polio</th>\n",
       "      <th>Total expenditure</th>\n",
       "      <th>Diphtheria</th>\n",
       "      <th>HIV/AIDS</th>\n",
       "      <th>GDP</th>\n",
       "      <th>Population</th>\n",
       "      <th>thinness  1-19 years</th>\n",
       "      <th>thinness 5-9 years</th>\n",
       "      <th>Income composition of resources</th>\n",
       "      <th>Schooling</th>\n",
       "    </tr>\n",
       "  </thead>\n",
       "  <tbody>\n",
       "    <tr>\n",
       "      <th>0</th>\n",
       "      <td>Malta</td>\n",
       "      <td>2008</td>\n",
       "      <td>Developed</td>\n",
       "      <td>80.0</td>\n",
       "      <td>64.0</td>\n",
       "      <td>0</td>\n",
       "      <td>7.14</td>\n",
       "      <td>2655.573684</td>\n",
       "      <td>86.0</td>\n",
       "      <td>1</td>\n",
       "      <td>66.6</td>\n",
       "      <td>0</td>\n",
       "      <td>72.0</td>\n",
       "      <td>8.15</td>\n",
       "      <td>72.0</td>\n",
       "      <td>0.1</td>\n",
       "      <td>21928.767000</td>\n",
       "      <td>49379.0</td>\n",
       "      <td>0.7</td>\n",
       "      <td>0.7</td>\n",
       "      <td>0.813</td>\n",
       "      <td>14.6</td>\n",
       "    </tr>\n",
       "    <tr>\n",
       "      <th>1</th>\n",
       "      <td>Congo</td>\n",
       "      <td>2005</td>\n",
       "      <td>Developing</td>\n",
       "      <td>55.3</td>\n",
       "      <td>394.0</td>\n",
       "      <td>8</td>\n",
       "      <td>2.03</td>\n",
       "      <td>0.000000</td>\n",
       "      <td>NaN</td>\n",
       "      <td>146</td>\n",
       "      <td>21.7</td>\n",
       "      <td>13</td>\n",
       "      <td>62.0</td>\n",
       "      <td>2.42</td>\n",
       "      <td>62.0</td>\n",
       "      <td>5.9</td>\n",
       "      <td>NaN</td>\n",
       "      <td>NaN</td>\n",
       "      <td>8.8</td>\n",
       "      <td>8.5</td>\n",
       "      <td>0.496</td>\n",
       "      <td>9.4</td>\n",
       "    </tr>\n",
       "    <tr>\n",
       "      <th>2</th>\n",
       "      <td>Burkina Faso</td>\n",
       "      <td>2009</td>\n",
       "      <td>Developing</td>\n",
       "      <td>56.9</td>\n",
       "      <td>283.0</td>\n",
       "      <td>44</td>\n",
       "      <td>4.55</td>\n",
       "      <td>81.143047</td>\n",
       "      <td>92.0</td>\n",
       "      <td>54118</td>\n",
       "      <td>16.1</td>\n",
       "      <td>77</td>\n",
       "      <td>91.0</td>\n",
       "      <td>7.41</td>\n",
       "      <td>92.0</td>\n",
       "      <td>1.1</td>\n",
       "      <td>552.745552</td>\n",
       "      <td>1514199.0</td>\n",
       "      <td>9.3</td>\n",
       "      <td>8.8</td>\n",
       "      <td>0.356</td>\n",
       "      <td>5.9</td>\n",
       "    </tr>\n",
       "    <tr>\n",
       "      <th>3</th>\n",
       "      <td>Guinea-Bissau</td>\n",
       "      <td>2011</td>\n",
       "      <td>Developing</td>\n",
       "      <td>57.1</td>\n",
       "      <td>289.0</td>\n",
       "      <td>4</td>\n",
       "      <td>3.57</td>\n",
       "      <td>40.453674</td>\n",
       "      <td>86.0</td>\n",
       "      <td>0</td>\n",
       "      <td>23.7</td>\n",
       "      <td>7</td>\n",
       "      <td>85.0</td>\n",
       "      <td>5.46</td>\n",
       "      <td>86.0</td>\n",
       "      <td>5.7</td>\n",
       "      <td>692.699890</td>\n",
       "      <td>1596154.0</td>\n",
       "      <td>7.8</td>\n",
       "      <td>7.7</td>\n",
       "      <td>0.410</td>\n",
       "      <td>9.0</td>\n",
       "    </tr>\n",
       "    <tr>\n",
       "      <th>4</th>\n",
       "      <td>Myanmar</td>\n",
       "      <td>2007</td>\n",
       "      <td>Developing</td>\n",
       "      <td>64.5</td>\n",
       "      <td>217.0</td>\n",
       "      <td>58</td>\n",
       "      <td>0.26</td>\n",
       "      <td>0.530573</td>\n",
       "      <td>85.0</td>\n",
       "      <td>1088</td>\n",
       "      <td>17.6</td>\n",
       "      <td>78</td>\n",
       "      <td>84.0</td>\n",
       "      <td>1.68</td>\n",
       "      <td>86.0</td>\n",
       "      <td>0.6</td>\n",
       "      <td>41.451000</td>\n",
       "      <td>49171586.0</td>\n",
       "      <td>13.2</td>\n",
       "      <td>13.5</td>\n",
       "      <td>0.484</td>\n",
       "      <td>8.1</td>\n",
       "    </tr>\n",
       "  </tbody>\n",
       "</table>\n",
       "</div>"
      ],
      "text/plain": [
       "         Country  Year      Status  Life expectancy   Adult Mortality  \\\n",
       "0          Malta  2008   Developed              80.0             64.0   \n",
       "1          Congo  2005  Developing              55.3            394.0   \n",
       "2   Burkina Faso  2009  Developing              56.9            283.0   \n",
       "3  Guinea-Bissau  2011  Developing              57.1            289.0   \n",
       "4        Myanmar  2007  Developing              64.5            217.0   \n",
       "\n",
       "   infant deaths  Alcohol  percentage expenditure  Hepatitis B  Measles   \\\n",
       "0              0     7.14             2655.573684         86.0         1   \n",
       "1              8     2.03                0.000000          NaN       146   \n",
       "2             44     4.55               81.143047         92.0     54118   \n",
       "3              4     3.57               40.453674         86.0         0   \n",
       "4             58     0.26                0.530573         85.0      1088   \n",
       "\n",
       "    BMI   under-five deaths   Polio  Total expenditure  Diphtheria   \\\n",
       "0   66.6                   0   72.0               8.15         72.0   \n",
       "1   21.7                  13   62.0               2.42         62.0   \n",
       "2   16.1                  77   91.0               7.41         92.0   \n",
       "3   23.7                   7   85.0               5.46         86.0   \n",
       "4   17.6                  78   84.0               1.68         86.0   \n",
       "\n",
       "    HIV/AIDS           GDP  Population   thinness  1-19 years  \\\n",
       "0        0.1  21928.767000     49379.0                    0.7   \n",
       "1        5.9           NaN         NaN                    8.8   \n",
       "2        1.1    552.745552   1514199.0                    9.3   \n",
       "3        5.7    692.699890   1596154.0                    7.8   \n",
       "4        0.6     41.451000  49171586.0                   13.2   \n",
       "\n",
       "    thinness 5-9 years  Income composition of resources  Schooling  \n",
       "0                  0.7                            0.813       14.6  \n",
       "1                  8.5                            0.496        9.4  \n",
       "2                  8.8                            0.356        5.9  \n",
       "3                  7.7                            0.410        9.0  \n",
       "4                 13.5                            0.484        8.1  "
      ]
     },
     "execution_count": 4,
     "metadata": {},
     "output_type": "execute_result"
    }
   ],
   "source": [
    "dftrain.head()"
   ]
  },
  {
   "cell_type": "markdown",
   "metadata": {},
   "source": [
    "1. **Country (Ülke):** Gözlemin ilişkilendiği ülkenin adını temsil eder. Örneğin, \"Malta,\" \"Congo,\" \"Burkina Faso,\" \"Guinea-Bissau,\" ve \"Myanmar.\"\n",
    "\n",
    "2. **Year (Yıl):** Gözlemin ilişkilendiği yılı temsil eder. Örneğin, 2008, 2005, 2009, 2011, ve 2007 gibi yıllar.\n",
    "\n",
    "3. **Status (Statü):** Ülkenin ekonomik statüsünü belirtir. \"Developing\" (Gelişmekte Olan) veya \"Developed\" (Gelişmiş) olabilir.\n",
    "\n",
    "4. **Life Expectancy (Ortalama Yaşam Süresi):** Bir ülkede ortalama yaşam süresini temsil eder.\n",
    "\n",
    "5. **Adult Mortality (Yetişkin Mortalitesi):** Yetişkinlerde görülen ölüm oranını ifade eder.\n",
    "\n",
    "6. **Infant Deaths (Bebek Ölümleri):** 1 yaş altındaki bebeklerin ölüm sayısını temsil eder.\n",
    "\n",
    "7. **Alcohol (Alkol):** Kişi başına düşen yıllık alkol tüketimini ifade eder.\n",
    "\n",
    "8. **Percentage Expenditure (Yüzde Harcama):** Sağlık hizmetlerine yapılan toplam harcamanın kişi başına düşen yüzdesini temsil eder.\n",
    "\n",
    "9. **Hepatitis B (Hepatit B):** Hepatit B aşısı kapsamını temsil eder.\n",
    "\n",
    "10. **Measles (Kızamık):** Kızamık hastalığına karşı aşı kapsamını temsil eder.\n",
    "\n",
    "11. **BMI (Vücut Kitle İndeksi):** Kişinin vücut kitle indeksini temsil eder.\n",
    "\n",
    "12. **Under-Five Deaths (5 Yaş Altı Ölümler):** 5 yaş altındaki çocukların ölüm sayısını temsil eder.\n",
    "\n",
    "13. **Polio (Polio):** Polio aşısı kapsamını temsil eder.\n",
    "\n",
    "14. **Total Expenditure (Toplam Harcama):** Sağlık hizmetlerine yapılan toplam harcamayı temsil eder.\n",
    "\n",
    "15. **Diphtheria (Difteri):** Difteri aşısı kapsamını temsil eder.\n",
    "\n",
    "16. **HIV/AIDS (HIV/AIDS):** HIV/AIDS oranını temsil eder.\n",
    "\n",
    "17. **GDP (Gayri Safi Yurtiçi Hasıla):** Ülkenin gayri safi yurtiçi hasılasını temsil eder.\n",
    "\n",
    "18. **Population (Nüfus):** Ülkenin nüfusunu temsil eder.\n",
    "\n",
    "19. **Thinness 1-19 Years (Zayıflık 1-19 Yaş):** 1-19 yaş arası kişilerde zayıflığı temsil eder.\n",
    "\n",
    "20. **Thinness 5-9 Years (Zayıflık 5-9 Yaş):** 5-9 yaş arası kişilerde zayıflığı temsil eder.\n",
    "\n",
    "21. **Income Composition of Resources (Kaynakların Gelir Kompozisyonu):** Ülkenin kaynakların gelir kompozisyonunu temsil eder.\n",
    "\n",
    "22. **Schooling (Okul Eğitimi):** Ortalama okul eğitim yılını temsil eder.\n",
    "\n",
    "Bu sütunlar, sağlık, ekonomi ve eğitimle ilgili çeşitli göstergeleri içeren geniş bir sağlık veri setini temsil etmektedir."
   ]
  },
  {
   "cell_type": "code",
   "execution_count": 5,
   "metadata": {
    "execution": {
     "iopub.execute_input": "2023-12-10T15:23:26.654034Z",
     "iopub.status.busy": "2023-12-10T15:23:26.653729Z",
     "iopub.status.idle": "2023-12-10T15:23:26.659835Z",
     "shell.execute_reply": "2023-12-10T15:23:26.658477Z",
     "shell.execute_reply.started": "2023-12-10T15:23:26.654006Z"
    }
   },
   "outputs": [
    {
     "name": "stdout",
     "output_type": "stream",
     "text": [
      "(2056, 22)\n",
      "(882, 22)\n"
     ]
    }
   ],
   "source": [
    "print(dftrain.shape)\n",
    "print(dftest.shape)"
   ]
  },
  {
   "cell_type": "code",
   "execution_count": 6,
   "metadata": {
    "execution": {
     "iopub.execute_input": "2023-12-10T15:23:26.661664Z",
     "iopub.status.busy": "2023-12-10T15:23:26.661086Z",
     "iopub.status.idle": "2023-12-10T15:23:26.694644Z",
     "shell.execute_reply": "2023-12-10T15:23:26.693847Z",
     "shell.execute_reply.started": "2023-12-10T15:23:26.661636Z"
    }
   },
   "outputs": [
    {
     "data": {
      "text/html": [
       "<div>\n",
       "<style scoped>\n",
       "    .dataframe tbody tr th:only-of-type {\n",
       "        vertical-align: middle;\n",
       "    }\n",
       "\n",
       "    .dataframe tbody tr th {\n",
       "        vertical-align: top;\n",
       "    }\n",
       "\n",
       "    .dataframe thead th {\n",
       "        text-align: right;\n",
       "    }\n",
       "</style>\n",
       "<table border=\"1\" class=\"dataframe\">\n",
       "  <thead>\n",
       "    <tr style=\"text-align: right;\">\n",
       "      <th></th>\n",
       "      <th>Country</th>\n",
       "      <th>Year</th>\n",
       "      <th>Status</th>\n",
       "      <th>Adult Mortality</th>\n",
       "      <th>infant deaths</th>\n",
       "      <th>Alcohol</th>\n",
       "      <th>percentage expenditure</th>\n",
       "      <th>Hepatitis B</th>\n",
       "      <th>Measles</th>\n",
       "      <th>BMI</th>\n",
       "      <th>under-five deaths</th>\n",
       "      <th>Polio</th>\n",
       "      <th>Total expenditure</th>\n",
       "      <th>Diphtheria</th>\n",
       "      <th>HIV/AIDS</th>\n",
       "      <th>GDP</th>\n",
       "      <th>Population</th>\n",
       "      <th>thinness  1-19 years</th>\n",
       "      <th>thinness 5-9 years</th>\n",
       "      <th>Income composition of resources</th>\n",
       "      <th>Schooling</th>\n",
       "      <th>Row_id</th>\n",
       "    </tr>\n",
       "  </thead>\n",
       "  <tbody>\n",
       "    <tr>\n",
       "      <th>0</th>\n",
       "      <td>Syrian Arab Republic</td>\n",
       "      <td>2006</td>\n",
       "      <td>Developing</td>\n",
       "      <td>123.0</td>\n",
       "      <td>8</td>\n",
       "      <td>0.97</td>\n",
       "      <td>122.652333</td>\n",
       "      <td>83.0</td>\n",
       "      <td>517</td>\n",
       "      <td>48.5</td>\n",
       "      <td>10</td>\n",
       "      <td>83.0</td>\n",
       "      <td>3.78</td>\n",
       "      <td>8.0</td>\n",
       "      <td>0.1</td>\n",
       "      <td>1762.246170</td>\n",
       "      <td>18914977.0</td>\n",
       "      <td>6.4</td>\n",
       "      <td>6.3</td>\n",
       "      <td>0.636</td>\n",
       "      <td>11.4</td>\n",
       "      <td>0</td>\n",
       "    </tr>\n",
       "    <tr>\n",
       "      <th>1</th>\n",
       "      <td>Croatia</td>\n",
       "      <td>2006</td>\n",
       "      <td>Developed</td>\n",
       "      <td>113.0</td>\n",
       "      <td>0</td>\n",
       "      <td>11.83</td>\n",
       "      <td>1555.651986</td>\n",
       "      <td>NaN</td>\n",
       "      <td>1</td>\n",
       "      <td>58.1</td>\n",
       "      <td>0</td>\n",
       "      <td>96.0</td>\n",
       "      <td>6.95</td>\n",
       "      <td>96.0</td>\n",
       "      <td>0.1</td>\n",
       "      <td>11363.418450</td>\n",
       "      <td>444.0</td>\n",
       "      <td>1.8</td>\n",
       "      <td>1.8</td>\n",
       "      <td>0.783</td>\n",
       "      <td>13.9</td>\n",
       "      <td>1</td>\n",
       "    </tr>\n",
       "    <tr>\n",
       "      <th>2</th>\n",
       "      <td>Montenegro</td>\n",
       "      <td>2007</td>\n",
       "      <td>Developing</td>\n",
       "      <td>125.0</td>\n",
       "      <td>0</td>\n",
       "      <td>4.98</td>\n",
       "      <td>678.518894</td>\n",
       "      <td>9.0</td>\n",
       "      <td>0</td>\n",
       "      <td>57.2</td>\n",
       "      <td>0</td>\n",
       "      <td>92.0</td>\n",
       "      <td>6.74</td>\n",
       "      <td>92.0</td>\n",
       "      <td>0.1</td>\n",
       "      <td>5957.145693</td>\n",
       "      <td>615875.0</td>\n",
       "      <td>2.1</td>\n",
       "      <td>2.2</td>\n",
       "      <td>0.762</td>\n",
       "      <td>13.6</td>\n",
       "      <td>2</td>\n",
       "    </tr>\n",
       "    <tr>\n",
       "      <th>3</th>\n",
       "      <td>Bahrain</td>\n",
       "      <td>2014</td>\n",
       "      <td>Developing</td>\n",
       "      <td>7.0</td>\n",
       "      <td>0</td>\n",
       "      <td>1.57</td>\n",
       "      <td>367.255674</td>\n",
       "      <td>98.0</td>\n",
       "      <td>46</td>\n",
       "      <td>62.9</td>\n",
       "      <td>0</td>\n",
       "      <td>98.0</td>\n",
       "      <td>4.98</td>\n",
       "      <td>98.0</td>\n",
       "      <td>0.1</td>\n",
       "      <td>24983.379200</td>\n",
       "      <td>NaN</td>\n",
       "      <td>6.1</td>\n",
       "      <td>6.0</td>\n",
       "      <td>0.820</td>\n",
       "      <td>14.5</td>\n",
       "      <td>3</td>\n",
       "    </tr>\n",
       "    <tr>\n",
       "      <th>4</th>\n",
       "      <td>Kenya</td>\n",
       "      <td>2000</td>\n",
       "      <td>Developing</td>\n",
       "      <td>428.0</td>\n",
       "      <td>77</td>\n",
       "      <td>1.51</td>\n",
       "      <td>0.681686</td>\n",
       "      <td>NaN</td>\n",
       "      <td>21002</td>\n",
       "      <td>14.4</td>\n",
       "      <td>121</td>\n",
       "      <td>8.0</td>\n",
       "      <td>4.68</td>\n",
       "      <td>82.0</td>\n",
       "      <td>18.1</td>\n",
       "      <td>43.979713</td>\n",
       "      <td>3145483.0</td>\n",
       "      <td>9.2</td>\n",
       "      <td>9.1</td>\n",
       "      <td>0.448</td>\n",
       "      <td>8.4</td>\n",
       "      <td>4</td>\n",
       "    </tr>\n",
       "  </tbody>\n",
       "</table>\n",
       "</div>"
      ],
      "text/plain": [
       "                Country  Year      Status  Adult Mortality  infant deaths  \\\n",
       "0  Syrian Arab Republic  2006  Developing            123.0              8   \n",
       "1               Croatia  2006   Developed            113.0              0   \n",
       "2            Montenegro  2007  Developing            125.0              0   \n",
       "3               Bahrain  2014  Developing              7.0              0   \n",
       "4                 Kenya  2000  Developing            428.0             77   \n",
       "\n",
       "   Alcohol  percentage expenditure  Hepatitis B  Measles    BMI   \\\n",
       "0     0.97              122.652333         83.0       517   48.5   \n",
       "1    11.83             1555.651986          NaN         1   58.1   \n",
       "2     4.98              678.518894          9.0         0   57.2   \n",
       "3     1.57              367.255674         98.0        46   62.9   \n",
       "4     1.51                0.681686          NaN     21002   14.4   \n",
       "\n",
       "   under-five deaths   Polio  Total expenditure  Diphtheria    HIV/AIDS  \\\n",
       "0                  10   83.0               3.78          8.0        0.1   \n",
       "1                   0   96.0               6.95         96.0        0.1   \n",
       "2                   0   92.0               6.74         92.0        0.1   \n",
       "3                   0   98.0               4.98         98.0        0.1   \n",
       "4                 121    8.0               4.68         82.0       18.1   \n",
       "\n",
       "            GDP  Population   thinness  1-19 years   thinness 5-9 years  \\\n",
       "0   1762.246170  18914977.0                    6.4                  6.3   \n",
       "1  11363.418450       444.0                    1.8                  1.8   \n",
       "2   5957.145693    615875.0                    2.1                  2.2   \n",
       "3  24983.379200         NaN                    6.1                  6.0   \n",
       "4     43.979713   3145483.0                    9.2                  9.1   \n",
       "\n",
       "   Income composition of resources  Schooling  Row_id  \n",
       "0                            0.636       11.4       0  \n",
       "1                            0.783       13.9       1  \n",
       "2                            0.762       13.6       2  \n",
       "3                            0.820       14.5       3  \n",
       "4                            0.448        8.4       4  "
      ]
     },
     "execution_count": 6,
     "metadata": {},
     "output_type": "execute_result"
    }
   ],
   "source": [
    "dftest.head()"
   ]
  },
  {
   "cell_type": "code",
   "execution_count": 7,
   "metadata": {
    "execution": {
     "iopub.execute_input": "2023-12-10T15:23:26.696661Z",
     "iopub.status.busy": "2023-12-10T15:23:26.696206Z",
     "iopub.status.idle": "2023-12-10T15:23:26.711566Z",
     "shell.execute_reply": "2023-12-10T15:23:26.710559Z",
     "shell.execute_reply.started": "2023-12-10T15:23:26.696635Z"
    }
   },
   "outputs": [
    {
     "data": {
      "text/plain": [
       "Index(['Country', 'Year', 'Status', 'Life expectancy ', 'Adult Mortality',\n",
       "       'infant deaths', 'Alcohol', 'percentage expenditure', 'Hepatitis B',\n",
       "       'Measles ', ' BMI ', 'under-five deaths ', 'Polio', 'Total expenditure',\n",
       "       'Diphtheria ', ' HIV/AIDS', 'GDP', 'Population',\n",
       "       ' thinness  1-19 years', ' thinness 5-9 years',\n",
       "       'Income composition of resources', 'Schooling'],\n",
       "      dtype='object')"
      ]
     },
     "execution_count": 7,
     "metadata": {},
     "output_type": "execute_result"
    }
   ],
   "source": [
    "dftrain.columns"
   ]
  },
  {
   "cell_type": "code",
   "execution_count": 8,
   "metadata": {
    "execution": {
     "iopub.execute_input": "2023-12-10T15:23:26.713003Z",
     "iopub.status.busy": "2023-12-10T15:23:26.712696Z",
     "iopub.status.idle": "2023-12-10T15:23:26.789737Z",
     "shell.execute_reply": "2023-12-10T15:23:26.788838Z",
     "shell.execute_reply.started": "2023-12-10T15:23:26.712973Z"
    }
   },
   "outputs": [
    {
     "data": {
      "text/plain": [
       "Index(['Country', 'Year', 'Status', 'Adult Mortality', 'infant deaths',\n",
       "       'Alcohol', 'percentage expenditure', 'Hepatitis B', 'Measles ', ' BMI ',\n",
       "       'under-five deaths ', 'Polio', 'Total expenditure', 'Diphtheria ',\n",
       "       ' HIV/AIDS', 'GDP', 'Population', ' thinness  1-19 years',\n",
       "       ' thinness 5-9 years', 'Income composition of resources', 'Schooling',\n",
       "       'Row_id'],\n",
       "      dtype='object')"
      ]
     },
     "execution_count": 8,
     "metadata": {},
     "output_type": "execute_result"
    }
   ],
   "source": [
    "dftest.columns"
   ]
  },
  {
   "cell_type": "code",
   "execution_count": 9,
   "metadata": {
    "execution": {
     "iopub.execute_input": "2023-12-10T15:23:26.791216Z",
     "iopub.status.busy": "2023-12-10T15:23:26.790906Z",
     "iopub.status.idle": "2023-12-10T15:23:26.798749Z",
     "shell.execute_reply": "2023-12-10T15:23:26.797857Z",
     "shell.execute_reply.started": "2023-12-10T15:23:26.791193Z"
    }
   },
   "outputs": [],
   "source": [
    "# dftest.rename(columns={'Row_id': 'Life expectancy'}, inplace=True)"
   ]
  },
  {
   "cell_type": "code",
   "execution_count": 10,
   "metadata": {
    "execution": {
     "iopub.execute_input": "2023-12-10T15:23:26.802089Z",
     "iopub.status.busy": "2023-12-10T15:23:26.801859Z",
     "iopub.status.idle": "2023-12-10T15:23:26.810011Z",
     "shell.execute_reply": "2023-12-10T15:23:26.809058Z",
     "shell.execute_reply.started": "2023-12-10T15:23:26.802068Z"
    }
   },
   "outputs": [],
   "source": [
    "#dftest.columns"
   ]
  },
  {
   "cell_type": "markdown",
   "metadata": {
    "execution": {
     "iopub.execute_input": "2023-12-10T15:03:35.738518Z",
     "iopub.status.busy": "2023-12-10T15:03:35.737163Z",
     "iopub.status.idle": "2023-12-10T15:06:20.634136Z",
     "shell.execute_reply": "2023-12-10T15:06:20.632701Z",
     "shell.execute_reply.started": "2023-12-10T15:03:35.738440Z"
    }
   },
   "source": [
    "# EDA\n",
    "import ydata_profiling\n",
    "dftrain.profile_report()"
   ]
  },
  {
   "cell_type": "code",
   "execution_count": 11,
   "metadata": {
    "execution": {
     "iopub.execute_input": "2023-12-10T15:23:26.811302Z",
     "iopub.status.busy": "2023-12-10T15:23:26.811076Z",
     "iopub.status.idle": "2023-12-10T15:23:26.853028Z",
     "shell.execute_reply": "2023-12-10T15:23:26.851696Z",
     "shell.execute_reply.started": "2023-12-10T15:23:26.811281Z"
    }
   },
   "outputs": [
    {
     "name": "stdout",
     "output_type": "stream",
     "text": [
      "<class 'pandas.core.frame.DataFrame'>\n",
      "RangeIndex: 2056 entries, 0 to 2055\n",
      "Data columns (total 22 columns):\n",
      " #   Column                           Non-Null Count  Dtype  \n",
      "---  ------                           --------------  -----  \n",
      " 0   Country                          2056 non-null   object \n",
      " 1   Year                             2056 non-null   int64  \n",
      " 2   Status                           2056 non-null   object \n",
      " 3   Life expectancy                  2050 non-null   float64\n",
      " 4   Adult Mortality                  2050 non-null   float64\n",
      " 5   infant deaths                    2056 non-null   int64  \n",
      " 6   Alcohol                          1920 non-null   float64\n",
      " 7   percentage expenditure           2056 non-null   float64\n",
      " 8   Hepatitis B                      1686 non-null   float64\n",
      " 9   Measles                          2056 non-null   int64  \n",
      " 10   BMI                             2032 non-null   float64\n",
      " 11  under-five deaths                2056 non-null   int64  \n",
      " 12  Polio                            2045 non-null   float64\n",
      " 13  Total expenditure                1898 non-null   float64\n",
      " 14  Diphtheria                       2045 non-null   float64\n",
      " 15   HIV/AIDS                        2056 non-null   float64\n",
      " 16  GDP                              1759 non-null   float64\n",
      " 17  Population                       1612 non-null   float64\n",
      " 18   thinness  1-19 years            2032 non-null   float64\n",
      " 19   thinness 5-9 years              2032 non-null   float64\n",
      " 20  Income composition of resources  1946 non-null   float64\n",
      " 21  Schooling                        1947 non-null   float64\n",
      "dtypes: float64(16), int64(4), object(2)\n",
      "memory usage: 353.5+ KB\n"
     ]
    }
   ],
   "source": [
    "dftrain.info()"
   ]
  },
  {
   "cell_type": "code",
   "execution_count": 12,
   "metadata": {
    "execution": {
     "iopub.execute_input": "2023-12-10T15:23:26.857044Z",
     "iopub.status.busy": "2023-12-10T15:23:26.856227Z",
     "iopub.status.idle": "2023-12-10T15:23:26.864652Z",
     "shell.execute_reply": "2023-12-10T15:23:26.863720Z",
     "shell.execute_reply.started": "2023-12-10T15:23:26.857011Z"
    }
   },
   "outputs": [
    {
     "data": {
      "text/plain": [
       "Status\n",
       "Developing    1689\n",
       "Developed      367\n",
       "Name: count, dtype: int64"
      ]
     },
     "execution_count": 12,
     "metadata": {},
     "output_type": "execute_result"
    }
   ],
   "source": [
    "dftrain[\"Status\"].value_counts()"
   ]
  },
  {
   "cell_type": "code",
   "execution_count": 13,
   "metadata": {
    "execution": {
     "iopub.execute_input": "2023-12-10T15:23:26.866141Z",
     "iopub.status.busy": "2023-12-10T15:23:26.865892Z",
     "iopub.status.idle": "2023-12-10T15:23:26.884022Z",
     "shell.execute_reply": "2023-12-10T15:23:26.883282Z",
     "shell.execute_reply.started": "2023-12-10T15:23:26.866119Z"
    }
   },
   "outputs": [
    {
     "data": {
      "text/plain": [
       "Life expectancy                    1.000000\n",
       "Schooling                          0.749169\n",
       "Income composition of resources    0.728390\n",
       " BMI                               0.565428\n",
       "Diphtheria                         0.464729\n",
       "GDP                                0.449203\n",
       "Polio                              0.444090\n",
       "Alcohol                            0.406219\n",
       "percentage expenditure             0.375274\n",
       "Hepatitis B                        0.243106\n",
       "Total expenditure                  0.195301\n",
       "Year                               0.168006\n",
       "Population                        -0.017067\n",
       "Measles                           -0.161759\n",
       "infant deaths                     -0.207045\n",
       "under-five deaths                 -0.231830\n",
       " thinness  1-19 years             -0.477475\n",
       " thinness 5-9 years               -0.479240\n",
       " HIV/AIDS                         -0.559477\n",
       "Adult Mortality                   -0.696588\n",
       "Name: Life expectancy , dtype: float64"
      ]
     },
     "execution_count": 13,
     "metadata": {},
     "output_type": "execute_result"
    }
   ],
   "source": [
    "dftrain.corr(numeric_only=True)['Life expectancy '].sort_values(ascending=False)"
   ]
  },
  {
   "cell_type": "code",
   "execution_count": 14,
   "metadata": {
    "execution": {
     "iopub.execute_input": "2023-12-10T15:23:26.885102Z",
     "iopub.status.busy": "2023-12-10T15:23:26.884844Z",
     "iopub.status.idle": "2023-12-10T15:23:26.894910Z",
     "shell.execute_reply": "2023-12-10T15:23:26.893978Z",
     "shell.execute_reply.started": "2023-12-10T15:23:26.885077Z"
    }
   },
   "outputs": [
    {
     "data": {
      "text/plain": [
       "Population                         444\n",
       "Hepatitis B                        370\n",
       "GDP                                297\n",
       "Total expenditure                  158\n",
       "Alcohol                            136\n",
       "Income composition of resources    110\n",
       "Schooling                          109\n",
       " thinness 5-9 years                 24\n",
       " thinness  1-19 years               24\n",
       " BMI                                24\n",
       "Polio                               11\n",
       "Diphtheria                          11\n",
       "Life expectancy                      6\n",
       "Adult Mortality                      6\n",
       " HIV/AIDS                            0\n",
       "Country                              0\n",
       "Year                                 0\n",
       "Measles                              0\n",
       "percentage expenditure               0\n",
       "infant deaths                        0\n",
       "Status                               0\n",
       "under-five deaths                    0\n",
       "dtype: int64"
      ]
     },
     "execution_count": 14,
     "metadata": {},
     "output_type": "execute_result"
    }
   ],
   "source": [
    "dftrain.isnull().sum().sort_values(ascending=False)"
   ]
  },
  {
   "cell_type": "code",
   "execution_count": 15,
   "metadata": {
    "execution": {
     "iopub.execute_input": "2023-12-10T15:23:26.896389Z",
     "iopub.status.busy": "2023-12-10T15:23:26.895838Z",
     "iopub.status.idle": "2023-12-10T15:23:26.908150Z",
     "shell.execute_reply": "2023-12-10T15:23:26.906625Z",
     "shell.execute_reply.started": "2023-12-10T15:23:26.896364Z"
    }
   },
   "outputs": [],
   "source": [
    "# df = pd.concat([dftrain, dftest], ignore_index=True)"
   ]
  },
  {
   "cell_type": "code",
   "execution_count": 16,
   "metadata": {
    "execution": {
     "iopub.execute_input": "2023-12-10T15:23:26.909971Z",
     "iopub.status.busy": "2023-12-10T15:23:26.909500Z",
     "iopub.status.idle": "2023-12-10T15:23:26.925297Z",
     "shell.execute_reply": "2023-12-10T15:23:26.923985Z",
     "shell.execute_reply.started": "2023-12-10T15:23:26.909944Z"
    }
   },
   "outputs": [],
   "source": [
    "dftrain = dftrain.fillna(0)"
   ]
  },
  {
   "cell_type": "code",
   "execution_count": 17,
   "metadata": {
    "execution": {
     "iopub.execute_input": "2023-12-10T15:23:26.927324Z",
     "iopub.status.busy": "2023-12-10T15:23:26.926920Z",
     "iopub.status.idle": "2023-12-10T15:23:26.954253Z",
     "shell.execute_reply": "2023-12-10T15:23:26.953475Z",
     "shell.execute_reply.started": "2023-12-10T15:23:26.927301Z"
    }
   },
   "outputs": [],
   "source": [
    "dftrain_get = pd.get_dummies(dftrain, columns=['Country', 'Status'], drop_first=True)\n",
    "dftest_get= pd.get_dummies(dftest, columns=['Country', 'Status'], drop_first=True)"
   ]
  },
  {
   "cell_type": "code",
   "execution_count": 18,
   "metadata": {
    "execution": {
     "iopub.execute_input": "2023-12-10T15:23:26.956393Z",
     "iopub.status.busy": "2023-12-10T15:23:26.955909Z",
     "iopub.status.idle": "2023-12-10T15:23:26.962133Z",
     "shell.execute_reply": "2023-12-10T15:23:26.961332Z",
     "shell.execute_reply.started": "2023-12-10T15:23:26.956358Z"
    }
   },
   "outputs": [
    {
     "data": {
      "text/plain": [
       "(2056, 209)"
      ]
     },
     "execution_count": 18,
     "metadata": {},
     "output_type": "execute_result"
    }
   ],
   "source": [
    "dftrain_get.shape"
   ]
  },
  {
   "cell_type": "code",
   "execution_count": 19,
   "metadata": {
    "execution": {
     "iopub.execute_input": "2023-12-10T15:23:26.964643Z",
     "iopub.status.busy": "2023-12-10T15:23:26.964010Z",
     "iopub.status.idle": "2023-12-10T15:23:26.979897Z",
     "shell.execute_reply": "2023-12-10T15:23:26.979110Z",
     "shell.execute_reply.started": "2023-12-10T15:23:26.964605Z"
    }
   },
   "outputs": [
    {
     "data": {
      "text/plain": [
       "(882, 206)"
      ]
     },
     "execution_count": 19,
     "metadata": {},
     "output_type": "execute_result"
    }
   ],
   "source": [
    "dftest_get.shape"
   ]
  },
  {
   "cell_type": "markdown",
   "metadata": {
    "execution": {
     "iopub.execute_input": "2023-12-10T15:06:20.769423Z",
     "iopub.status.busy": "2023-12-10T15:06:20.768389Z",
     "iopub.status.idle": "2023-12-10T15:06:20.775821Z",
     "shell.execute_reply": "2023-12-10T15:06:20.774885Z",
     "shell.execute_reply.started": "2023-12-10T15:06:20.769362Z"
    }
   },
   "source": [
    "dftrain=df_get[:2056]\n",
    "dftest=df_get[2056:]"
   ]
  },
  {
   "cell_type": "code",
   "execution_count": 20,
   "metadata": {
    "execution": {
     "iopub.execute_input": "2023-12-10T15:23:26.981426Z",
     "iopub.status.busy": "2023-12-10T15:23:26.981017Z",
     "iopub.status.idle": "2023-12-10T15:23:26.995635Z",
     "shell.execute_reply": "2023-12-10T15:23:26.994782Z",
     "shell.execute_reply.started": "2023-12-10T15:23:26.981401Z"
    }
   },
   "outputs": [],
   "source": [
    "x=dftrain.drop('Life expectancy ',axis=1)\n",
    "y=dftrain[['Life expectancy ']]"
   ]
  },
  {
   "cell_type": "code",
   "execution_count": 23,
   "metadata": {
    "collapsed": true,
    "execution": {
     "iopub.execute_input": "2023-12-10T15:24:11.619432Z",
     "iopub.status.busy": "2023-12-10T15:24:11.619041Z",
     "iopub.status.idle": "2023-12-10T15:24:49.876161Z",
     "shell.execute_reply": "2023-12-10T15:24:49.874720Z",
     "shell.execute_reply.started": "2023-12-10T15:24:11.619397Z"
    },
    "jupyter": {
     "outputs_hidden": true
    }
   },
   "outputs": [
    {
     "name": "stdout",
     "output_type": "stream",
     "text": [
      "Collecting pycaret\n",
      "  Obtaining dependency information for pycaret from https://files.pythonhosted.org/packages/eb/43/ec8d59a663e0a1a67196b404ec38ccb0051708bad74a48c80d96c61dd0e5/pycaret-3.2.0-py3-none-any.whl.metadata\n",
      "  Using cached pycaret-3.2.0-py3-none-any.whl.metadata (17 kB)\n",
      "Requirement already satisfied: category-encoders>=2.4.0 in /opt/conda/lib/python3.10/site-packages (from pycaret) (2.6.3)\n",
      "Requirement already satisfied: cloudpickle in /opt/conda/lib/python3.10/site-packages (from pycaret) (2.2.1)\n",
      "Requirement already satisfied: deprecation>=2.1.0 in /opt/conda/lib/python3.10/site-packages (from pycaret) (2.1.0)\n",
      "Requirement already satisfied: imbalanced-learn>=0.8.1 in /opt/conda/lib/python3.10/site-packages (from pycaret) (0.11.0)\n",
      "Requirement already satisfied: importlib-metadata>=4.12.0 in /opt/conda/lib/python3.10/site-packages (from pycaret) (6.8.0)\n",
      "Requirement already satisfied: ipython>=5.5.0 in /opt/conda/lib/python3.10/site-packages (from pycaret) (8.14.0)\n",
      "Requirement already satisfied: ipywidgets>=7.6.5 in /opt/conda/lib/python3.10/site-packages (from pycaret) (7.7.1)\n",
      "Requirement already satisfied: jinja2>=1.2 in /opt/conda/lib/python3.10/site-packages (from pycaret) (3.1.2)\n",
      "Requirement already satisfied: joblib>=1.2.0 in /opt/conda/lib/python3.10/site-packages (from pycaret) (1.3.2)\n",
      "Requirement already satisfied: kaleido>=0.2.1 in /opt/conda/lib/python3.10/site-packages (from pycaret) (0.2.1)\n",
      "Requirement already satisfied: lightgbm>=3.0.0 in /opt/conda/lib/python3.10/site-packages (from pycaret) (3.3.2)\n",
      "Requirement already satisfied: markupsafe>=2.0.1 in /opt/conda/lib/python3.10/site-packages (from pycaret) (2.1.3)\n",
      "Collecting matplotlib<=3.6,>=3.3.0 (from pycaret)\n",
      "  Using cached matplotlib-3.6.0-cp310-cp310-manylinux_2_17_x86_64.manylinux2014_x86_64.whl (11.8 MB)\n",
      "Requirement already satisfied: nbformat>=4.2.0 in /opt/conda/lib/python3.10/site-packages (from pycaret) (5.9.2)\n",
      "Requirement already satisfied: numba>=0.55.0 in /opt/conda/lib/python3.10/site-packages (from pycaret) (0.57.1)\n",
      "Requirement already satisfied: numpy<1.27,>=1.21 in /opt/conda/lib/python3.10/site-packages (from pycaret) (1.24.3)\n",
      "Collecting pandas<2.0.0,>=1.3.0 (from pycaret)\n",
      "  Using cached pandas-1.5.3-cp310-cp310-manylinux_2_17_x86_64.manylinux2014_x86_64.whl (12.1 MB)\n",
      "Collecting plotly-resampler>=0.8.3.1 (from pycaret)\n",
      "  Obtaining dependency information for plotly-resampler>=0.8.3.1 from https://files.pythonhosted.org/packages/08/1d/87d4ed45c26226630bcb0a205ff006c00645cc68977e22c0f6f16a7f5d2b/plotly_resampler-0.9.1-py3-none-any.whl.metadata\n",
      "  Using cached plotly_resampler-0.9.1-py3-none-any.whl.metadata (12 kB)\n",
      "Requirement already satisfied: plotly>=5.0.0 in /opt/conda/lib/python3.10/site-packages (from pycaret) (5.16.1)\n",
      "Collecting pmdarima!=1.8.1,<3.0.0,>=1.8.0 (from pycaret)\n",
      "  Obtaining dependency information for pmdarima!=1.8.1,<3.0.0,>=1.8.0 from https://files.pythonhosted.org/packages/ec/2b/e7d18360d56396b62781ba4616527af49244d4bed51f0780646fa3953cc8/pmdarima-2.0.4-cp310-cp310-manylinux_2_17_x86_64.manylinux2014_x86_64.manylinux_2_28_x86_64.whl.metadata\n",
      "  Using cached pmdarima-2.0.4-cp310-cp310-manylinux_2_17_x86_64.manylinux2014_x86_64.manylinux_2_28_x86_64.whl.metadata (7.8 kB)\n",
      "Requirement already satisfied: psutil>=5.9.0 in /opt/conda/lib/python3.10/site-packages (from pycaret) (5.9.3)\n",
      "Collecting pyod>=1.0.8 (from pycaret)\n",
      "  Using cached pyod-1.1.2-py3-none-any.whl\n",
      "Requirement already satisfied: requests>=2.27.1 in /opt/conda/lib/python3.10/site-packages (from pycaret) (2.31.0)\n",
      "Requirement already satisfied: schemdraw==0.15 in /opt/conda/lib/python3.10/site-packages (from pycaret) (0.15)\n",
      "Requirement already satisfied: scikit-learn<1.3.0,>=1.0 in /opt/conda/lib/python3.10/site-packages (from pycaret) (1.2.2)\n",
      "Requirement already satisfied: scikit-plot>=0.3.7 in /opt/conda/lib/python3.10/site-packages (from pycaret) (0.3.7)\n",
      "Requirement already satisfied: scipy~=1.10.1 in /opt/conda/lib/python3.10/site-packages (from pycaret) (1.10.1)\n",
      "Collecting sktime!=0.17.1,!=0.17.2,!=0.18.0,<0.22.0,>=0.16.1 (from pycaret)\n",
      "  Obtaining dependency information for sktime!=0.17.1,!=0.17.2,!=0.18.0,<0.22.0,>=0.16.1 from https://files.pythonhosted.org/packages/0f/70/a791db68c6f6922eb9e79baf1466263147a487c5b7ba7813f5868901e032/sktime-0.21.1-py3-none-any.whl.metadata\n",
      "  Using cached sktime-0.21.1-py3-none-any.whl.metadata (25 kB)\n",
      "Requirement already satisfied: statsmodels>=0.12.1 in /opt/conda/lib/python3.10/site-packages (from pycaret) (0.14.0)\n",
      "Collecting tbats>=1.1.3 (from pycaret)\n",
      "  Using cached tbats-1.1.3-py3-none-any.whl (44 kB)\n",
      "Requirement already satisfied: tqdm>=4.62.0 in /opt/conda/lib/python3.10/site-packages (from pycaret) (4.66.1)\n",
      "Requirement already satisfied: xxhash in /opt/conda/lib/python3.10/site-packages (from pycaret) (3.4.1)\n",
      "Requirement already satisfied: yellowbrick>=1.4 in /opt/conda/lib/python3.10/site-packages (from pycaret) (1.5)\n",
      "Requirement already satisfied: wurlitzer in /opt/conda/lib/python3.10/site-packages (from pycaret) (3.0.3)\n",
      "Requirement already satisfied: patsy>=0.5.1 in /opt/conda/lib/python3.10/site-packages (from category-encoders>=2.4.0->pycaret) (0.5.3)\n",
      "Requirement already satisfied: packaging in /opt/conda/lib/python3.10/site-packages (from deprecation>=2.1.0->pycaret) (21.3)\n",
      "Requirement already satisfied: threadpoolctl>=2.0.0 in /opt/conda/lib/python3.10/site-packages (from imbalanced-learn>=0.8.1->pycaret) (3.2.0)\n",
      "Requirement already satisfied: zipp>=0.5 in /opt/conda/lib/python3.10/site-packages (from importlib-metadata>=4.12.0->pycaret) (3.16.2)\n",
      "Requirement already satisfied: backcall in /opt/conda/lib/python3.10/site-packages (from ipython>=5.5.0->pycaret) (0.2.0)\n",
      "Requirement already satisfied: decorator in /opt/conda/lib/python3.10/site-packages (from ipython>=5.5.0->pycaret) (5.1.1)\n",
      "Requirement already satisfied: jedi>=0.16 in /opt/conda/lib/python3.10/site-packages (from ipython>=5.5.0->pycaret) (0.19.0)\n",
      "Requirement already satisfied: matplotlib-inline in /opt/conda/lib/python3.10/site-packages (from ipython>=5.5.0->pycaret) (0.1.6)\n",
      "Requirement already satisfied: pickleshare in /opt/conda/lib/python3.10/site-packages (from ipython>=5.5.0->pycaret) (0.7.5)\n",
      "Requirement already satisfied: prompt-toolkit!=3.0.37,<3.1.0,>=3.0.30 in /opt/conda/lib/python3.10/site-packages (from ipython>=5.5.0->pycaret) (3.0.39)\n",
      "Requirement already satisfied: pygments>=2.4.0 in /opt/conda/lib/python3.10/site-packages (from ipython>=5.5.0->pycaret) (2.16.1)\n",
      "Requirement already satisfied: stack-data in /opt/conda/lib/python3.10/site-packages (from ipython>=5.5.0->pycaret) (0.6.2)\n",
      "Requirement already satisfied: traitlets>=5 in /opt/conda/lib/python3.10/site-packages (from ipython>=5.5.0->pycaret) (5.9.0)\n",
      "Requirement already satisfied: pexpect>4.3 in /opt/conda/lib/python3.10/site-packages (from ipython>=5.5.0->pycaret) (4.8.0)\n",
      "Requirement already satisfied: ipykernel>=4.5.1 in /opt/conda/lib/python3.10/site-packages (from ipywidgets>=7.6.5->pycaret) (6.25.1)\n",
      "Requirement already satisfied: ipython-genutils~=0.2.0 in /opt/conda/lib/python3.10/site-packages (from ipywidgets>=7.6.5->pycaret) (0.2.0)\n",
      "Requirement already satisfied: widgetsnbextension~=3.6.0 in /opt/conda/lib/python3.10/site-packages (from ipywidgets>=7.6.5->pycaret) (3.6.6)\n",
      "Requirement already satisfied: jupyterlab-widgets>=1.0.0 in /opt/conda/lib/python3.10/site-packages (from ipywidgets>=7.6.5->pycaret) (3.0.8)\n",
      "Requirement already satisfied: wheel in /opt/conda/lib/python3.10/site-packages (from lightgbm>=3.0.0->pycaret) (0.41.2)\n",
      "Requirement already satisfied: contourpy>=1.0.1 in /opt/conda/lib/python3.10/site-packages (from matplotlib<=3.6,>=3.3.0->pycaret) (1.1.0)\n",
      "Requirement already satisfied: cycler>=0.10 in /opt/conda/lib/python3.10/site-packages (from matplotlib<=3.6,>=3.3.0->pycaret) (0.11.0)\n",
      "Requirement already satisfied: fonttools>=4.22.0 in /opt/conda/lib/python3.10/site-packages (from matplotlib<=3.6,>=3.3.0->pycaret) (4.42.1)\n",
      "Requirement already satisfied: kiwisolver>=1.0.1 in /opt/conda/lib/python3.10/site-packages (from matplotlib<=3.6,>=3.3.0->pycaret) (1.4.4)\n",
      "Requirement already satisfied: pillow>=6.2.0 in /opt/conda/lib/python3.10/site-packages (from matplotlib<=3.6,>=3.3.0->pycaret) (10.1.0)\n",
      "Requirement already satisfied: pyparsing>=2.2.1 in /opt/conda/lib/python3.10/site-packages (from matplotlib<=3.6,>=3.3.0->pycaret) (3.0.9)\n",
      "Requirement already satisfied: python-dateutil>=2.7 in /opt/conda/lib/python3.10/site-packages (from matplotlib<=3.6,>=3.3.0->pycaret) (2.8.2)\n",
      "Requirement already satisfied: fastjsonschema in /opt/conda/lib/python3.10/site-packages (from nbformat>=4.2.0->pycaret) (2.18.0)\n",
      "Requirement already satisfied: jsonschema>=2.6 in /opt/conda/lib/python3.10/site-packages (from nbformat>=4.2.0->pycaret) (4.19.0)\n",
      "Requirement already satisfied: jupyter-core in /opt/conda/lib/python3.10/site-packages (from nbformat>=4.2.0->pycaret) (5.3.1)\n",
      "Requirement already satisfied: llvmlite<0.41,>=0.40.0dev0 in /opt/conda/lib/python3.10/site-packages (from numba>=0.55.0->pycaret) (0.40.1)\n",
      "Requirement already satisfied: pytz>=2020.1 in /opt/conda/lib/python3.10/site-packages (from pandas<2.0.0,>=1.3.0->pycaret) (2023.3)\n",
      "Requirement already satisfied: tenacity>=6.2.0 in /opt/conda/lib/python3.10/site-packages (from plotly>=5.0.0->pycaret) (8.2.3)\n",
      "Collecting dash<3.0.0,>=2.11.0 (from plotly-resampler>=0.8.3.1->pycaret)\n",
      "  Obtaining dependency information for dash<3.0.0,>=2.11.0 from https://files.pythonhosted.org/packages/7b/62/438626ab498869249e99376684ba6d88931e7c2dd86d03a92d9d7a9b4c54/dash-2.14.2-py3-none-any.whl.metadata\n",
      "  Using cached dash-2.14.2-py3-none-any.whl.metadata (11 kB)\n",
      "Requirement already satisfied: orjson<4.0.0,>=3.8.0 in /opt/conda/lib/python3.10/site-packages (from plotly-resampler>=0.8.3.1->pycaret) (3.9.5)\n",
      "Requirement already satisfied: trace-updater>=0.0.8 in /opt/conda/lib/python3.10/site-packages (from plotly-resampler>=0.8.3.1->pycaret) (0.0.9.1)\n",
      "Requirement already satisfied: tsdownsample==0.1.2 in /opt/conda/lib/python3.10/site-packages (from plotly-resampler>=0.8.3.1->pycaret) (0.1.2)\n",
      "Requirement already satisfied: Cython!=0.29.18,!=0.29.31,>=0.29 in /opt/conda/lib/python3.10/site-packages (from pmdarima!=1.8.1,<3.0.0,>=1.8.0->pycaret) (3.0.0)\n",
      "Requirement already satisfied: urllib3 in /opt/conda/lib/python3.10/site-packages (from pmdarima!=1.8.1,<3.0.0,>=1.8.0->pycaret) (1.26.15)\n",
      "Requirement already satisfied: setuptools!=50.0.0,>=38.6.0 in /opt/conda/lib/python3.10/site-packages (from pmdarima!=1.8.1,<3.0.0,>=1.8.0->pycaret) (68.1.2)\n",
      "Requirement already satisfied: six in /opt/conda/lib/python3.10/site-packages (from pyod>=1.0.8->pycaret) (1.16.0)\n",
      "Requirement already satisfied: charset-normalizer<4,>=2 in /opt/conda/lib/python3.10/site-packages (from requests>=2.27.1->pycaret) (3.2.0)\n",
      "Requirement already satisfied: idna<4,>=2.5 in /opt/conda/lib/python3.10/site-packages (from requests>=2.27.1->pycaret) (3.4)\n",
      "Requirement already satisfied: certifi>=2017.4.17 in /opt/conda/lib/python3.10/site-packages (from requests>=2.27.1->pycaret) (2023.11.17)\n",
      "Requirement already satisfied: deprecated>=1.2.13 in /opt/conda/lib/python3.10/site-packages (from sktime!=0.17.1,!=0.17.2,!=0.18.0,<0.22.0,>=0.16.1->pycaret) (1.2.14)\n",
      "Requirement already satisfied: scikit-base<0.6.0 in /opt/conda/lib/python3.10/site-packages (from sktime!=0.17.1,!=0.17.2,!=0.18.0,<0.22.0,>=0.16.1->pycaret) (0.5.2)\n",
      "Requirement already satisfied: Flask<3.1,>=1.0.4 in /opt/conda/lib/python3.10/site-packages (from dash<3.0.0,>=2.11.0->plotly-resampler>=0.8.3.1->pycaret) (3.0.0)\n",
      "Requirement already satisfied: Werkzeug<3.1 in /opt/conda/lib/python3.10/site-packages (from dash<3.0.0,>=2.11.0->plotly-resampler>=0.8.3.1->pycaret) (3.0.1)\n",
      "Requirement already satisfied: dash-html-components==2.0.0 in /opt/conda/lib/python3.10/site-packages (from dash<3.0.0,>=2.11.0->plotly-resampler>=0.8.3.1->pycaret) (2.0.0)\n",
      "Requirement already satisfied: dash-core-components==2.0.0 in /opt/conda/lib/python3.10/site-packages (from dash<3.0.0,>=2.11.0->plotly-resampler>=0.8.3.1->pycaret) (2.0.0)\n",
      "Requirement already satisfied: dash-table==5.0.0 in /opt/conda/lib/python3.10/site-packages (from dash<3.0.0,>=2.11.0->plotly-resampler>=0.8.3.1->pycaret) (5.0.0)\n",
      "Requirement already satisfied: typing-extensions>=4.1.1 in /opt/conda/lib/python3.10/site-packages (from dash<3.0.0,>=2.11.0->plotly-resampler>=0.8.3.1->pycaret) (4.5.0)\n",
      "Requirement already satisfied: retrying in /opt/conda/lib/python3.10/site-packages (from dash<3.0.0,>=2.11.0->plotly-resampler>=0.8.3.1->pycaret) (1.3.3)\n",
      "Requirement already satisfied: ansi2html in /opt/conda/lib/python3.10/site-packages (from dash<3.0.0,>=2.11.0->plotly-resampler>=0.8.3.1->pycaret) (1.8.0)\n",
      "Requirement already satisfied: nest-asyncio in /opt/conda/lib/python3.10/site-packages (from dash<3.0.0,>=2.11.0->plotly-resampler>=0.8.3.1->pycaret) (1.5.6)\n",
      "Requirement already satisfied: wrapt<2,>=1.10 in /opt/conda/lib/python3.10/site-packages (from deprecated>=1.2.13->sktime!=0.17.1,!=0.17.2,!=0.18.0,<0.22.0,>=0.16.1->pycaret) (1.15.0)\n",
      "Requirement already satisfied: comm>=0.1.1 in /opt/conda/lib/python3.10/site-packages (from ipykernel>=4.5.1->ipywidgets>=7.6.5->pycaret) (0.1.4)\n",
      "Requirement already satisfied: debugpy>=1.6.5 in /opt/conda/lib/python3.10/site-packages (from ipykernel>=4.5.1->ipywidgets>=7.6.5->pycaret) (1.6.7.post1)\n",
      "Requirement already satisfied: jupyter-client>=6.1.12 in /opt/conda/lib/python3.10/site-packages (from ipykernel>=4.5.1->ipywidgets>=7.6.5->pycaret) (7.4.9)\n",
      "Requirement already satisfied: pyzmq>=20 in /opt/conda/lib/python3.10/site-packages (from ipykernel>=4.5.1->ipywidgets>=7.6.5->pycaret) (24.0.1)\n",
      "Requirement already satisfied: tornado>=6.1 in /opt/conda/lib/python3.10/site-packages (from ipykernel>=4.5.1->ipywidgets>=7.6.5->pycaret) (6.3.3)\n",
      "Requirement already satisfied: parso<0.9.0,>=0.8.3 in /opt/conda/lib/python3.10/site-packages (from jedi>=0.16->ipython>=5.5.0->pycaret) (0.8.3)\n",
      "Requirement already satisfied: attrs>=22.2.0 in /opt/conda/lib/python3.10/site-packages (from jsonschema>=2.6->nbformat>=4.2.0->pycaret) (23.1.0)\n",
      "Requirement already satisfied: jsonschema-specifications>=2023.03.6 in /opt/conda/lib/python3.10/site-packages (from jsonschema>=2.6->nbformat>=4.2.0->pycaret) (2023.7.1)\n",
      "Requirement already satisfied: referencing>=0.28.4 in /opt/conda/lib/python3.10/site-packages (from jsonschema>=2.6->nbformat>=4.2.0->pycaret) (0.30.2)\n",
      "Requirement already satisfied: rpds-py>=0.7.1 in /opt/conda/lib/python3.10/site-packages (from jsonschema>=2.6->nbformat>=4.2.0->pycaret) (0.9.2)\n",
      "Requirement already satisfied: platformdirs>=2.5 in /opt/conda/lib/python3.10/site-packages (from jupyter-core->nbformat>=4.2.0->pycaret) (4.1.0)\n",
      "Requirement already satisfied: ptyprocess>=0.5 in /opt/conda/lib/python3.10/site-packages (from pexpect>4.3->ipython>=5.5.0->pycaret) (0.7.0)\n",
      "Requirement already satisfied: wcwidth in /opt/conda/lib/python3.10/site-packages (from prompt-toolkit!=3.0.37,<3.1.0,>=3.0.30->ipython>=5.5.0->pycaret) (0.2.6)\n",
      "Requirement already satisfied: notebook>=4.4.1 in /opt/conda/lib/python3.10/site-packages (from widgetsnbextension~=3.6.0->ipywidgets>=7.6.5->pycaret) (6.5.5)\n",
      "Requirement already satisfied: executing>=1.2.0 in /opt/conda/lib/python3.10/site-packages (from stack-data->ipython>=5.5.0->pycaret) (1.2.0)\n",
      "Requirement already satisfied: asttokens>=2.1.0 in /opt/conda/lib/python3.10/site-packages (from stack-data->ipython>=5.5.0->pycaret) (2.2.1)\n",
      "Requirement already satisfied: pure-eval in /opt/conda/lib/python3.10/site-packages (from stack-data->ipython>=5.5.0->pycaret) (0.2.2)\n",
      "Requirement already satisfied: itsdangerous>=2.1.2 in /opt/conda/lib/python3.10/site-packages (from Flask<3.1,>=1.0.4->dash<3.0.0,>=2.11.0->plotly-resampler>=0.8.3.1->pycaret) (2.1.2)\n",
      "Requirement already satisfied: click>=8.1.3 in /opt/conda/lib/python3.10/site-packages (from Flask<3.1,>=1.0.4->dash<3.0.0,>=2.11.0->plotly-resampler>=0.8.3.1->pycaret) (8.1.7)\n",
      "Requirement already satisfied: blinker>=1.6.2 in /opt/conda/lib/python3.10/site-packages (from Flask<3.1,>=1.0.4->dash<3.0.0,>=2.11.0->plotly-resampler>=0.8.3.1->pycaret) (1.7.0)\n",
      "Requirement already satisfied: entrypoints in /opt/conda/lib/python3.10/site-packages (from jupyter-client>=6.1.12->ipykernel>=4.5.1->ipywidgets>=7.6.5->pycaret) (0.4)\n",
      "Requirement already satisfied: argon2-cffi in /opt/conda/lib/python3.10/site-packages (from notebook>=4.4.1->widgetsnbextension~=3.6.0->ipywidgets>=7.6.5->pycaret) (21.3.0)\n",
      "Requirement already satisfied: nbconvert>=5 in /opt/conda/lib/python3.10/site-packages (from notebook>=4.4.1->widgetsnbextension~=3.6.0->ipywidgets>=7.6.5->pycaret) (6.4.5)\n",
      "Requirement already satisfied: Send2Trash>=1.8.0 in /opt/conda/lib/python3.10/site-packages (from notebook>=4.4.1->widgetsnbextension~=3.6.0->ipywidgets>=7.6.5->pycaret) (1.8.2)\n",
      "Requirement already satisfied: terminado>=0.8.3 in /opt/conda/lib/python3.10/site-packages (from notebook>=4.4.1->widgetsnbextension~=3.6.0->ipywidgets>=7.6.5->pycaret) (0.17.1)\n",
      "Requirement already satisfied: prometheus-client in /opt/conda/lib/python3.10/site-packages (from notebook>=4.4.1->widgetsnbextension~=3.6.0->ipywidgets>=7.6.5->pycaret) (0.17.1)\n",
      "Requirement already satisfied: nbclassic>=0.4.7 in /opt/conda/lib/python3.10/site-packages (from notebook>=4.4.1->widgetsnbextension~=3.6.0->ipywidgets>=7.6.5->pycaret) (1.0.0)\n",
      "Requirement already satisfied: jupyter-server>=1.8 in /opt/conda/lib/python3.10/site-packages (from nbclassic>=0.4.7->notebook>=4.4.1->widgetsnbextension~=3.6.0->ipywidgets>=7.6.5->pycaret) (2.12.1)\n",
      "Requirement already satisfied: notebook-shim>=0.2.3 in /opt/conda/lib/python3.10/site-packages (from nbclassic>=0.4.7->notebook>=4.4.1->widgetsnbextension~=3.6.0->ipywidgets>=7.6.5->pycaret) (0.2.3)\n",
      "Requirement already satisfied: mistune<2,>=0.8.1 in /opt/conda/lib/python3.10/site-packages (from nbconvert>=5->notebook>=4.4.1->widgetsnbextension~=3.6.0->ipywidgets>=7.6.5->pycaret) (0.8.4)\n",
      "Requirement already satisfied: jupyterlab-pygments in /opt/conda/lib/python3.10/site-packages (from nbconvert>=5->notebook>=4.4.1->widgetsnbextension~=3.6.0->ipywidgets>=7.6.5->pycaret) (0.2.2)\n",
      "Requirement already satisfied: bleach in /opt/conda/lib/python3.10/site-packages (from nbconvert>=5->notebook>=4.4.1->widgetsnbextension~=3.6.0->ipywidgets>=7.6.5->pycaret) (6.0.0)\n",
      "Requirement already satisfied: pandocfilters>=1.4.1 in /opt/conda/lib/python3.10/site-packages (from nbconvert>=5->notebook>=4.4.1->widgetsnbextension~=3.6.0->ipywidgets>=7.6.5->pycaret) (1.5.0)\n",
      "Requirement already satisfied: testpath in /opt/conda/lib/python3.10/site-packages (from nbconvert>=5->notebook>=4.4.1->widgetsnbextension~=3.6.0->ipywidgets>=7.6.5->pycaret) (0.6.0)\n",
      "Requirement already satisfied: defusedxml in /opt/conda/lib/python3.10/site-packages (from nbconvert>=5->notebook>=4.4.1->widgetsnbextension~=3.6.0->ipywidgets>=7.6.5->pycaret) (0.7.1)\n",
      "Requirement already satisfied: beautifulsoup4 in /opt/conda/lib/python3.10/site-packages (from nbconvert>=5->notebook>=4.4.1->widgetsnbextension~=3.6.0->ipywidgets>=7.6.5->pycaret) (4.12.2)\n",
      "Requirement already satisfied: nbclient<0.6.0,>=0.5.0 in /opt/conda/lib/python3.10/site-packages (from nbconvert>=5->notebook>=4.4.1->widgetsnbextension~=3.6.0->ipywidgets>=7.6.5->pycaret) (0.5.13)\n",
      "Requirement already satisfied: argon2-cffi-bindings in /opt/conda/lib/python3.10/site-packages (from argon2-cffi->notebook>=4.4.1->widgetsnbextension~=3.6.0->ipywidgets>=7.6.5->pycaret) (21.2.0)\n",
      "Requirement already satisfied: anyio>=3.1.0 in /opt/conda/lib/python3.10/site-packages (from jupyter-server>=1.8->nbclassic>=0.4.7->notebook>=4.4.1->widgetsnbextension~=3.6.0->ipywidgets>=7.6.5->pycaret) (3.7.1)\n",
      "Requirement already satisfied: jupyter-events>=0.9.0 in /opt/conda/lib/python3.10/site-packages (from jupyter-server>=1.8->nbclassic>=0.4.7->notebook>=4.4.1->widgetsnbextension~=3.6.0->ipywidgets>=7.6.5->pycaret) (0.9.0)\n",
      "Requirement already satisfied: jupyter-server-terminals in /opt/conda/lib/python3.10/site-packages (from jupyter-server>=1.8->nbclassic>=0.4.7->notebook>=4.4.1->widgetsnbextension~=3.6.0->ipywidgets>=7.6.5->pycaret) (0.4.4)\n",
      "Requirement already satisfied: overrides in /opt/conda/lib/python3.10/site-packages (from jupyter-server>=1.8->nbclassic>=0.4.7->notebook>=4.4.1->widgetsnbextension~=3.6.0->ipywidgets>=7.6.5->pycaret) (6.5.0)\n",
      "Requirement already satisfied: websocket-client in /opt/conda/lib/python3.10/site-packages (from jupyter-server>=1.8->nbclassic>=0.4.7->notebook>=4.4.1->widgetsnbextension~=3.6.0->ipywidgets>=7.6.5->pycaret) (1.6.2)\n",
      "Requirement already satisfied: cffi>=1.0.1 in /opt/conda/lib/python3.10/site-packages (from argon2-cffi-bindings->argon2-cffi->notebook>=4.4.1->widgetsnbextension~=3.6.0->ipywidgets>=7.6.5->pycaret) (1.15.1)\n",
      "Requirement already satisfied: soupsieve>1.2 in /opt/conda/lib/python3.10/site-packages (from beautifulsoup4->nbconvert>=5->notebook>=4.4.1->widgetsnbextension~=3.6.0->ipywidgets>=7.6.5->pycaret) (2.3.2.post1)\n",
      "Requirement already satisfied: webencodings in /opt/conda/lib/python3.10/site-packages (from bleach->nbconvert>=5->notebook>=4.4.1->widgetsnbextension~=3.6.0->ipywidgets>=7.6.5->pycaret) (0.5.1)\n",
      "Requirement already satisfied: sniffio>=1.1 in /opt/conda/lib/python3.10/site-packages (from anyio>=3.1.0->jupyter-server>=1.8->nbclassic>=0.4.7->notebook>=4.4.1->widgetsnbextension~=3.6.0->ipywidgets>=7.6.5->pycaret) (1.3.0)\n",
      "Requirement already satisfied: exceptiongroup in /opt/conda/lib/python3.10/site-packages (from anyio>=3.1.0->jupyter-server>=1.8->nbclassic>=0.4.7->notebook>=4.4.1->widgetsnbextension~=3.6.0->ipywidgets>=7.6.5->pycaret) (1.1.3)\n",
      "Requirement already satisfied: pycparser in /opt/conda/lib/python3.10/site-packages (from cffi>=1.0.1->argon2-cffi-bindings->argon2-cffi->notebook>=4.4.1->widgetsnbextension~=3.6.0->ipywidgets>=7.6.5->pycaret) (2.21)\n",
      "Requirement already satisfied: python-json-logger>=2.0.4 in /opt/conda/lib/python3.10/site-packages (from jupyter-events>=0.9.0->jupyter-server>=1.8->nbclassic>=0.4.7->notebook>=4.4.1->widgetsnbextension~=3.6.0->ipywidgets>=7.6.5->pycaret) (2.0.7)\n",
      "Requirement already satisfied: pyyaml>=5.3 in /opt/conda/lib/python3.10/site-packages (from jupyter-events>=0.9.0->jupyter-server>=1.8->nbclassic>=0.4.7->notebook>=4.4.1->widgetsnbextension~=3.6.0->ipywidgets>=7.6.5->pycaret) (6.0.1)\n",
      "Requirement already satisfied: rfc3339-validator in /opt/conda/lib/python3.10/site-packages (from jupyter-events>=0.9.0->jupyter-server>=1.8->nbclassic>=0.4.7->notebook>=4.4.1->widgetsnbextension~=3.6.0->ipywidgets>=7.6.5->pycaret) (0.1.4)\n",
      "Requirement already satisfied: rfc3986-validator>=0.1.1 in /opt/conda/lib/python3.10/site-packages (from jupyter-events>=0.9.0->jupyter-server>=1.8->nbclassic>=0.4.7->notebook>=4.4.1->widgetsnbextension~=3.6.0->ipywidgets>=7.6.5->pycaret) (0.1.1)\n",
      "Requirement already satisfied: fqdn in /opt/conda/lib/python3.10/site-packages (from jsonschema>=2.6->nbformat>=4.2.0->pycaret) (1.5.1)\n",
      "Requirement already satisfied: isoduration in /opt/conda/lib/python3.10/site-packages (from jsonschema>=2.6->nbformat>=4.2.0->pycaret) (20.11.0)\n",
      "Requirement already satisfied: jsonpointer>1.13 in /opt/conda/lib/python3.10/site-packages (from jsonschema>=2.6->nbformat>=4.2.0->pycaret) (2.0)\n",
      "Requirement already satisfied: uri-template in /opt/conda/lib/python3.10/site-packages (from jsonschema>=2.6->nbformat>=4.2.0->pycaret) (1.3.0)\n",
      "Requirement already satisfied: webcolors>=1.11 in /opt/conda/lib/python3.10/site-packages (from jsonschema>=2.6->nbformat>=4.2.0->pycaret) (1.13)\n",
      "Requirement already satisfied: arrow>=0.15.0 in /opt/conda/lib/python3.10/site-packages (from isoduration->jsonschema>=2.6->nbformat>=4.2.0->pycaret) (1.2.3)\n",
      "Using cached pycaret-3.2.0-py3-none-any.whl (484 kB)\n",
      "Using cached plotly_resampler-0.9.1-py3-none-any.whl (73 kB)\n",
      "Using cached pmdarima-2.0.4-cp310-cp310-manylinux_2_17_x86_64.manylinux2014_x86_64.manylinux_2_28_x86_64.whl (2.1 MB)\n",
      "Using cached sktime-0.21.1-py3-none-any.whl (17.1 MB)\n",
      "Using cached dash-2.14.2-py3-none-any.whl (10.2 MB)\n",
      "Installing collected packages: pandas, matplotlib, sktime, pyod, dash, pmdarima, plotly-resampler, tbats, pycaret\n",
      "  Attempting uninstall: pandas\n",
      "    Found existing installation: pandas 2.0.3\n",
      "    Uninstalling pandas-2.0.3:\n",
      "      Successfully uninstalled pandas-2.0.3\n",
      "  Attempting uninstall: matplotlib\n",
      "    Found existing installation: matplotlib 3.7.4\n",
      "    Uninstalling matplotlib-3.7.4:\n",
      "      Successfully uninstalled matplotlib-3.7.4\n",
      "\u001b[31mERROR: pip's dependency resolver does not currently take into account all the packages that are installed. This behaviour is the source of the following dependency conflicts.\n",
      "beatrix-jupyterlab 2023.814.150030 requires jupyter-server~=1.16, but you have jupyter-server 2.12.1 which is incompatible.\n",
      "beatrix-jupyterlab 2023.814.150030 requires jupyterlab~=3.4, but you have jupyterlab 4.0.5 which is incompatible.\n",
      "fitter 1.6.0 requires matplotlib>=3.7.2, but you have matplotlib 3.6.0 which is incompatible.\n",
      "fitter 1.6.0 requires pandas<3.0.0,>=2.0.3, but you have pandas 1.5.3 which is incompatible.\n",
      "libpysal 4.9.2 requires packaging>=22, but you have packaging 21.3 which is incompatible.\n",
      "libpysal 4.9.2 requires shapely>=2.0.1, but you have shapely 1.8.5.post1 which is incompatible.\n",
      "momepy 0.7.0 requires shapely>=2, but you have shapely 1.8.5.post1 which is incompatible.\n",
      "pymc3 3.11.5 requires numpy<1.22.2,>=1.15.0, but you have numpy 1.24.3 which is incompatible.\n",
      "pymc3 3.11.5 requires scipy<1.8.0,>=1.7.3, but you have scipy 1.10.1 which is incompatible.\n",
      "tensorflowjs 4.14.0 requires packaging~=23.1, but you have packaging 21.3 which is incompatible.\n",
      "ydata-profiling 4.5.1 requires numpy<1.24,>=1.16.0, but you have numpy 1.24.3 which is incompatible.\u001b[0m\u001b[31m\n",
      "\u001b[0mSuccessfully installed dash-2.14.2 matplotlib-3.6.0 pandas-1.5.3 plotly-resampler-0.9.1 pmdarima-2.0.4 pycaret-3.2.0 pyod-1.1.2 sktime-0.21.1 tbats-1.1.3\n",
      "Note: you may need to restart the kernel to use updated packages.\n"
     ]
    }
   ],
   "source": [
    "pip install pycaret"
   ]
  },
  {
   "cell_type": "code",
   "execution_count": 25,
   "metadata": {
    "execution": {
     "iopub.execute_input": "2023-12-10T15:27:49.621333Z",
     "iopub.status.busy": "2023-12-10T15:27:49.620954Z",
     "iopub.status.idle": "2023-12-10T15:27:51.474065Z",
     "shell.execute_reply": "2023-12-10T15:27:51.473081Z",
     "shell.execute_reply.started": "2023-12-10T15:27:49.621307Z"
    }
   },
   "outputs": [],
   "source": [
    "from pycaret.regression import*"
   ]
  },
  {
   "cell_type": "code",
   "execution_count": 26,
   "metadata": {
    "execution": {
     "iopub.execute_input": "2023-12-10T15:28:24.667934Z",
     "iopub.status.busy": "2023-12-10T15:28:24.667460Z",
     "iopub.status.idle": "2023-12-10T15:28:29.302181Z",
     "shell.execute_reply": "2023-12-10T15:28:29.301499Z",
     "shell.execute_reply.started": "2023-12-10T15:28:24.667896Z"
    }
   },
   "outputs": [
    {
     "data": {
      "text/html": [
       "<style type=\"text/css\">\n",
       "#T_5b6cc_row8_col1 {\n",
       "  background-color: lightgreen;\n",
       "}\n",
       "</style>\n",
       "<table id=\"T_5b6cc\">\n",
       "  <thead>\n",
       "    <tr>\n",
       "      <th class=\"blank level0\" >&nbsp;</th>\n",
       "      <th id=\"T_5b6cc_level0_col0\" class=\"col_heading level0 col0\" >Description</th>\n",
       "      <th id=\"T_5b6cc_level0_col1\" class=\"col_heading level0 col1\" >Value</th>\n",
       "    </tr>\n",
       "  </thead>\n",
       "  <tbody>\n",
       "    <tr>\n",
       "      <th id=\"T_5b6cc_level0_row0\" class=\"row_heading level0 row0\" >0</th>\n",
       "      <td id=\"T_5b6cc_row0_col0\" class=\"data row0 col0\" >Session id</td>\n",
       "      <td id=\"T_5b6cc_row0_col1\" class=\"data row0 col1\" >2737</td>\n",
       "    </tr>\n",
       "    <tr>\n",
       "      <th id=\"T_5b6cc_level0_row1\" class=\"row_heading level0 row1\" >1</th>\n",
       "      <td id=\"T_5b6cc_row1_col0\" class=\"data row1 col0\" >Target</td>\n",
       "      <td id=\"T_5b6cc_row1_col1\" class=\"data row1 col1\" >Life expectancy </td>\n",
       "    </tr>\n",
       "    <tr>\n",
       "      <th id=\"T_5b6cc_level0_row2\" class=\"row_heading level0 row2\" >2</th>\n",
       "      <td id=\"T_5b6cc_row2_col0\" class=\"data row2 col0\" >Target type</td>\n",
       "      <td id=\"T_5b6cc_row2_col1\" class=\"data row2 col1\" >Regression</td>\n",
       "    </tr>\n",
       "    <tr>\n",
       "      <th id=\"T_5b6cc_level0_row3\" class=\"row_heading level0 row3\" >3</th>\n",
       "      <td id=\"T_5b6cc_row3_col0\" class=\"data row3 col0\" >Original data shape</td>\n",
       "      <td id=\"T_5b6cc_row3_col1\" class=\"data row3 col1\" >(2056, 209)</td>\n",
       "    </tr>\n",
       "    <tr>\n",
       "      <th id=\"T_5b6cc_level0_row4\" class=\"row_heading level0 row4\" >4</th>\n",
       "      <td id=\"T_5b6cc_row4_col0\" class=\"data row4 col0\" >Transformed data shape</td>\n",
       "      <td id=\"T_5b6cc_row4_col1\" class=\"data row4 col1\" >(2056, 209)</td>\n",
       "    </tr>\n",
       "    <tr>\n",
       "      <th id=\"T_5b6cc_level0_row5\" class=\"row_heading level0 row5\" >5</th>\n",
       "      <td id=\"T_5b6cc_row5_col0\" class=\"data row5 col0\" >Transformed train set shape</td>\n",
       "      <td id=\"T_5b6cc_row5_col1\" class=\"data row5 col1\" >(1439, 209)</td>\n",
       "    </tr>\n",
       "    <tr>\n",
       "      <th id=\"T_5b6cc_level0_row6\" class=\"row_heading level0 row6\" >6</th>\n",
       "      <td id=\"T_5b6cc_row6_col0\" class=\"data row6 col0\" >Transformed test set shape</td>\n",
       "      <td id=\"T_5b6cc_row6_col1\" class=\"data row6 col1\" >(617, 209)</td>\n",
       "    </tr>\n",
       "    <tr>\n",
       "      <th id=\"T_5b6cc_level0_row7\" class=\"row_heading level0 row7\" >7</th>\n",
       "      <td id=\"T_5b6cc_row7_col0\" class=\"data row7 col0\" >Numeric features</td>\n",
       "      <td id=\"T_5b6cc_row7_col1\" class=\"data row7 col1\" >19</td>\n",
       "    </tr>\n",
       "    <tr>\n",
       "      <th id=\"T_5b6cc_level0_row8\" class=\"row_heading level0 row8\" >8</th>\n",
       "      <td id=\"T_5b6cc_row8_col0\" class=\"data row8 col0\" >Preprocess</td>\n",
       "      <td id=\"T_5b6cc_row8_col1\" class=\"data row8 col1\" >True</td>\n",
       "    </tr>\n",
       "    <tr>\n",
       "      <th id=\"T_5b6cc_level0_row9\" class=\"row_heading level0 row9\" >9</th>\n",
       "      <td id=\"T_5b6cc_row9_col0\" class=\"data row9 col0\" >Imputation type</td>\n",
       "      <td id=\"T_5b6cc_row9_col1\" class=\"data row9 col1\" >simple</td>\n",
       "    </tr>\n",
       "    <tr>\n",
       "      <th id=\"T_5b6cc_level0_row10\" class=\"row_heading level0 row10\" >10</th>\n",
       "      <td id=\"T_5b6cc_row10_col0\" class=\"data row10 col0\" >Numeric imputation</td>\n",
       "      <td id=\"T_5b6cc_row10_col1\" class=\"data row10 col1\" >mean</td>\n",
       "    </tr>\n",
       "    <tr>\n",
       "      <th id=\"T_5b6cc_level0_row11\" class=\"row_heading level0 row11\" >11</th>\n",
       "      <td id=\"T_5b6cc_row11_col0\" class=\"data row11 col0\" >Categorical imputation</td>\n",
       "      <td id=\"T_5b6cc_row11_col1\" class=\"data row11 col1\" >mode</td>\n",
       "    </tr>\n",
       "    <tr>\n",
       "      <th id=\"T_5b6cc_level0_row12\" class=\"row_heading level0 row12\" >12</th>\n",
       "      <td id=\"T_5b6cc_row12_col0\" class=\"data row12 col0\" >Fold Generator</td>\n",
       "      <td id=\"T_5b6cc_row12_col1\" class=\"data row12 col1\" >KFold</td>\n",
       "    </tr>\n",
       "    <tr>\n",
       "      <th id=\"T_5b6cc_level0_row13\" class=\"row_heading level0 row13\" >13</th>\n",
       "      <td id=\"T_5b6cc_row13_col0\" class=\"data row13 col0\" >Fold Number</td>\n",
       "      <td id=\"T_5b6cc_row13_col1\" class=\"data row13 col1\" >10</td>\n",
       "    </tr>\n",
       "    <tr>\n",
       "      <th id=\"T_5b6cc_level0_row14\" class=\"row_heading level0 row14\" >14</th>\n",
       "      <td id=\"T_5b6cc_row14_col0\" class=\"data row14 col0\" >CPU Jobs</td>\n",
       "      <td id=\"T_5b6cc_row14_col1\" class=\"data row14 col1\" >-1</td>\n",
       "    </tr>\n",
       "    <tr>\n",
       "      <th id=\"T_5b6cc_level0_row15\" class=\"row_heading level0 row15\" >15</th>\n",
       "      <td id=\"T_5b6cc_row15_col0\" class=\"data row15 col0\" >Use GPU</td>\n",
       "      <td id=\"T_5b6cc_row15_col1\" class=\"data row15 col1\" >False</td>\n",
       "    </tr>\n",
       "    <tr>\n",
       "      <th id=\"T_5b6cc_level0_row16\" class=\"row_heading level0 row16\" >16</th>\n",
       "      <td id=\"T_5b6cc_row16_col0\" class=\"data row16 col0\" >Log Experiment</td>\n",
       "      <td id=\"T_5b6cc_row16_col1\" class=\"data row16 col1\" >False</td>\n",
       "    </tr>\n",
       "    <tr>\n",
       "      <th id=\"T_5b6cc_level0_row17\" class=\"row_heading level0 row17\" >17</th>\n",
       "      <td id=\"T_5b6cc_row17_col0\" class=\"data row17 col0\" >Experiment Name</td>\n",
       "      <td id=\"T_5b6cc_row17_col1\" class=\"data row17 col1\" >reg-default-name</td>\n",
       "    </tr>\n",
       "    <tr>\n",
       "      <th id=\"T_5b6cc_level0_row18\" class=\"row_heading level0 row18\" >18</th>\n",
       "      <td id=\"T_5b6cc_row18_col0\" class=\"data row18 col0\" >USI</td>\n",
       "      <td id=\"T_5b6cc_row18_col1\" class=\"data row18 col1\" >61a2</td>\n",
       "    </tr>\n",
       "  </tbody>\n",
       "</table>\n"
      ],
      "text/plain": [
       "<pandas.io.formats.style.Styler at 0x7efb6d517af0>"
      ]
     },
     "metadata": {},
     "output_type": "display_data"
    },
    {
     "data": {
      "text/plain": [
       "<pycaret.regression.oop.RegressionExperiment at 0x7efb4b6770d0>"
      ]
     },
     "execution_count": 26,
     "metadata": {},
     "output_type": "execute_result"
    }
   ],
   "source": [
    "setup(dftrain_get,target='Life expectancy ')"
   ]
  },
  {
   "cell_type": "code",
   "execution_count": 27,
   "metadata": {
    "execution": {
     "iopub.execute_input": "2023-12-10T15:28:29.304862Z",
     "iopub.status.busy": "2023-12-10T15:28:29.303957Z",
     "iopub.status.idle": "2023-12-10T15:29:34.653905Z",
     "shell.execute_reply": "2023-12-10T15:29:34.653025Z",
     "shell.execute_reply.started": "2023-12-10T15:28:29.304825Z"
    }
   },
   "outputs": [
    {
     "data": {
      "text/html": [],
      "text/plain": [
       "<IPython.core.display.HTML object>"
      ]
     },
     "metadata": {},
     "output_type": "display_data"
    },
    {
     "data": {
      "text/html": [
       "<style type=\"text/css\">\n",
       "#T_8c4aa th {\n",
       "  text-align: left;\n",
       "}\n",
       "#T_8c4aa_row0_col0, #T_8c4aa_row0_col1, #T_8c4aa_row0_col5, #T_8c4aa_row0_col6, #T_8c4aa_row1_col0, #T_8c4aa_row1_col1, #T_8c4aa_row1_col2, #T_8c4aa_row1_col3, #T_8c4aa_row1_col4, #T_8c4aa_row1_col5, #T_8c4aa_row1_col6, #T_8c4aa_row2_col0, #T_8c4aa_row2_col1, #T_8c4aa_row2_col2, #T_8c4aa_row2_col3, #T_8c4aa_row2_col4, #T_8c4aa_row2_col5, #T_8c4aa_row2_col6, #T_8c4aa_row3_col0, #T_8c4aa_row3_col1, #T_8c4aa_row3_col2, #T_8c4aa_row3_col3, #T_8c4aa_row3_col4, #T_8c4aa_row3_col5, #T_8c4aa_row3_col6, #T_8c4aa_row4_col0, #T_8c4aa_row4_col1, #T_8c4aa_row4_col2, #T_8c4aa_row4_col3, #T_8c4aa_row4_col4, #T_8c4aa_row4_col6, #T_8c4aa_row5_col0, #T_8c4aa_row5_col1, #T_8c4aa_row5_col2, #T_8c4aa_row5_col3, #T_8c4aa_row5_col4, #T_8c4aa_row5_col5, #T_8c4aa_row5_col6, #T_8c4aa_row6_col0, #T_8c4aa_row6_col1, #T_8c4aa_row6_col2, #T_8c4aa_row6_col3, #T_8c4aa_row6_col4, #T_8c4aa_row6_col5, #T_8c4aa_row6_col6, #T_8c4aa_row7_col0, #T_8c4aa_row7_col1, #T_8c4aa_row7_col2, #T_8c4aa_row7_col3, #T_8c4aa_row7_col4, #T_8c4aa_row7_col5, #T_8c4aa_row7_col6, #T_8c4aa_row8_col0, #T_8c4aa_row8_col1, #T_8c4aa_row8_col2, #T_8c4aa_row8_col3, #T_8c4aa_row8_col4, #T_8c4aa_row8_col5, #T_8c4aa_row8_col6, #T_8c4aa_row9_col0, #T_8c4aa_row9_col2, #T_8c4aa_row9_col3, #T_8c4aa_row9_col4, #T_8c4aa_row9_col5, #T_8c4aa_row10_col0, #T_8c4aa_row10_col1, #T_8c4aa_row10_col2, #T_8c4aa_row10_col3, #T_8c4aa_row10_col4, #T_8c4aa_row10_col5, #T_8c4aa_row10_col6, #T_8c4aa_row11_col0, #T_8c4aa_row11_col1, #T_8c4aa_row11_col2, #T_8c4aa_row11_col3, #T_8c4aa_row11_col4, #T_8c4aa_row11_col5, #T_8c4aa_row11_col6, #T_8c4aa_row12_col0, #T_8c4aa_row12_col1, #T_8c4aa_row12_col2, #T_8c4aa_row12_col3, #T_8c4aa_row12_col4, #T_8c4aa_row12_col5, #T_8c4aa_row12_col6, #T_8c4aa_row13_col0, #T_8c4aa_row13_col1, #T_8c4aa_row13_col2, #T_8c4aa_row13_col3, #T_8c4aa_row13_col4, #T_8c4aa_row13_col5, #T_8c4aa_row13_col6, #T_8c4aa_row14_col0, #T_8c4aa_row14_col1, #T_8c4aa_row14_col2, #T_8c4aa_row14_col3, #T_8c4aa_row14_col4, #T_8c4aa_row14_col5, #T_8c4aa_row14_col6, #T_8c4aa_row15_col0, #T_8c4aa_row15_col1, #T_8c4aa_row15_col2, #T_8c4aa_row15_col3, #T_8c4aa_row15_col4, #T_8c4aa_row15_col5, #T_8c4aa_row15_col6, #T_8c4aa_row16_col0, #T_8c4aa_row16_col1, #T_8c4aa_row16_col2, #T_8c4aa_row16_col3, #T_8c4aa_row16_col4, #T_8c4aa_row16_col5, #T_8c4aa_row16_col6, #T_8c4aa_row17_col0, #T_8c4aa_row17_col1, #T_8c4aa_row17_col2, #T_8c4aa_row17_col3, #T_8c4aa_row17_col4, #T_8c4aa_row17_col5, #T_8c4aa_row17_col6, #T_8c4aa_row18_col0, #T_8c4aa_row18_col1, #T_8c4aa_row18_col2, #T_8c4aa_row18_col3, #T_8c4aa_row18_col4, #T_8c4aa_row18_col5, #T_8c4aa_row18_col6, #T_8c4aa_row19_col0, #T_8c4aa_row19_col1, #T_8c4aa_row19_col2, #T_8c4aa_row19_col3, #T_8c4aa_row19_col4, #T_8c4aa_row19_col5, #T_8c4aa_row19_col6 {\n",
       "  text-align: left;\n",
       "}\n",
       "#T_8c4aa_row0_col2, #T_8c4aa_row0_col3, #T_8c4aa_row0_col4, #T_8c4aa_row4_col5, #T_8c4aa_row9_col1, #T_8c4aa_row9_col6 {\n",
       "  text-align: left;\n",
       "  background-color: yellow;\n",
       "}\n",
       "#T_8c4aa_row0_col7, #T_8c4aa_row1_col7, #T_8c4aa_row2_col7, #T_8c4aa_row3_col7, #T_8c4aa_row4_col7, #T_8c4aa_row5_col7, #T_8c4aa_row6_col7, #T_8c4aa_row7_col7, #T_8c4aa_row8_col7, #T_8c4aa_row9_col7, #T_8c4aa_row10_col7, #T_8c4aa_row12_col7, #T_8c4aa_row13_col7, #T_8c4aa_row14_col7, #T_8c4aa_row15_col7, #T_8c4aa_row16_col7, #T_8c4aa_row17_col7, #T_8c4aa_row18_col7, #T_8c4aa_row19_col7 {\n",
       "  text-align: left;\n",
       "  background-color: lightgrey;\n",
       "}\n",
       "#T_8c4aa_row11_col7 {\n",
       "  text-align: left;\n",
       "  background-color: yellow;\n",
       "  background-color: lightgrey;\n",
       "}\n",
       "</style>\n",
       "<table id=\"T_8c4aa\">\n",
       "  <thead>\n",
       "    <tr>\n",
       "      <th class=\"blank level0\" >&nbsp;</th>\n",
       "      <th id=\"T_8c4aa_level0_col0\" class=\"col_heading level0 col0\" >Model</th>\n",
       "      <th id=\"T_8c4aa_level0_col1\" class=\"col_heading level0 col1\" >MAE</th>\n",
       "      <th id=\"T_8c4aa_level0_col2\" class=\"col_heading level0 col2\" >MSE</th>\n",
       "      <th id=\"T_8c4aa_level0_col3\" class=\"col_heading level0 col3\" >RMSE</th>\n",
       "      <th id=\"T_8c4aa_level0_col4\" class=\"col_heading level0 col4\" >R2</th>\n",
       "      <th id=\"T_8c4aa_level0_col5\" class=\"col_heading level0 col5\" >RMSLE</th>\n",
       "      <th id=\"T_8c4aa_level0_col6\" class=\"col_heading level0 col6\" >MAPE</th>\n",
       "      <th id=\"T_8c4aa_level0_col7\" class=\"col_heading level0 col7\" >TT (Sec)</th>\n",
       "    </tr>\n",
       "  </thead>\n",
       "  <tbody>\n",
       "    <tr>\n",
       "      <th id=\"T_8c4aa_level0_row0\" class=\"row_heading level0 row0\" >catboost</th>\n",
       "      <td id=\"T_8c4aa_row0_col0\" class=\"data row0 col0\" >CatBoost Regressor</td>\n",
       "      <td id=\"T_8c4aa_row0_col1\" class=\"data row0 col1\" >1.3638</td>\n",
       "      <td id=\"T_8c4aa_row0_col2\" class=\"data row0 col2\" >5.1092</td>\n",
       "      <td id=\"T_8c4aa_row0_col3\" class=\"data row0 col3\" >2.2221</td>\n",
       "      <td id=\"T_8c4aa_row0_col4\" class=\"data row0 col4\" >0.9516</td>\n",
       "      <td id=\"T_8c4aa_row0_col5\" class=\"data row0 col5\" >0.1151</td>\n",
       "      <td id=\"T_8c4aa_row0_col6\" class=\"data row0 col6\" >0.0196</td>\n",
       "      <td id=\"T_8c4aa_row0_col7\" class=\"data row0 col7\" >2.8250</td>\n",
       "    </tr>\n",
       "    <tr>\n",
       "      <th id=\"T_8c4aa_level0_row1\" class=\"row_heading level0 row1\" >rf</th>\n",
       "      <td id=\"T_8c4aa_row1_col0\" class=\"data row1 col0\" >Random Forest Regressor</td>\n",
       "      <td id=\"T_8c4aa_row1_col1\" class=\"data row1 col1\" >1.3996</td>\n",
       "      <td id=\"T_8c4aa_row1_col2\" class=\"data row1 col2\" >5.6539</td>\n",
       "      <td id=\"T_8c4aa_row1_col3\" class=\"data row1 col3\" >2.3584</td>\n",
       "      <td id=\"T_8c4aa_row1_col4\" class=\"data row1 col4\" >0.9449</td>\n",
       "      <td id=\"T_8c4aa_row1_col5\" class=\"data row1 col5\" >0.1190</td>\n",
       "      <td id=\"T_8c4aa_row1_col6\" class=\"data row1 col6\" >0.0206</td>\n",
       "      <td id=\"T_8c4aa_row1_col7\" class=\"data row1 col7\" >0.5740</td>\n",
       "    </tr>\n",
       "    <tr>\n",
       "      <th id=\"T_8c4aa_level0_row2\" class=\"row_heading level0 row2\" >gbr</th>\n",
       "      <td id=\"T_8c4aa_row2_col0\" class=\"data row2 col0\" >Gradient Boosting Regressor</td>\n",
       "      <td id=\"T_8c4aa_row2_col1\" class=\"data row2 col1\" >1.7198</td>\n",
       "      <td id=\"T_8c4aa_row2_col2\" class=\"data row2 col2\" >6.0893</td>\n",
       "      <td id=\"T_8c4aa_row2_col3\" class=\"data row2 col3\" >2.4514</td>\n",
       "      <td id=\"T_8c4aa_row2_col4\" class=\"data row2 col4\" >0.9393</td>\n",
       "      <td id=\"T_8c4aa_row2_col5\" class=\"data row2 col5\" >0.1090</td>\n",
       "      <td id=\"T_8c4aa_row2_col6\" class=\"data row2 col6\" >0.0252</td>\n",
       "      <td id=\"T_8c4aa_row2_col7\" class=\"data row2 col7\" >0.3380</td>\n",
       "    </tr>\n",
       "    <tr>\n",
       "      <th id=\"T_8c4aa_level0_row3\" class=\"row_heading level0 row3\" >xgboost</th>\n",
       "      <td id=\"T_8c4aa_row3_col0\" class=\"data row3 col0\" >Extreme Gradient Boosting</td>\n",
       "      <td id=\"T_8c4aa_row3_col1\" class=\"data row3 col1\" >1.4270</td>\n",
       "      <td id=\"T_8c4aa_row3_col2\" class=\"data row3 col2\" >6.5932</td>\n",
       "      <td id=\"T_8c4aa_row3_col3\" class=\"data row3 col3\" >2.4463</td>\n",
       "      <td id=\"T_8c4aa_row3_col4\" class=\"data row3 col4\" >0.9304</td>\n",
       "      <td id=\"T_8c4aa_row3_col5\" class=\"data row3 col5\" >0.0503</td>\n",
       "      <td id=\"T_8c4aa_row3_col6\" class=\"data row3 col6\" >0.0215</td>\n",
       "      <td id=\"T_8c4aa_row3_col7\" class=\"data row3 col7\" >0.2160</td>\n",
       "    </tr>\n",
       "    <tr>\n",
       "      <th id=\"T_8c4aa_level0_row4\" class=\"row_heading level0 row4\" >dt</th>\n",
       "      <td id=\"T_8c4aa_row4_col0\" class=\"data row4 col0\" >Decision Tree Regressor</td>\n",
       "      <td id=\"T_8c4aa_row4_col1\" class=\"data row4 col1\" >1.8245</td>\n",
       "      <td id=\"T_8c4aa_row4_col2\" class=\"data row4 col2\" >9.6596</td>\n",
       "      <td id=\"T_8c4aa_row4_col3\" class=\"data row4 col3\" >3.0874</td>\n",
       "      <td id=\"T_8c4aa_row4_col4\" class=\"data row4 col4\" >0.9008</td>\n",
       "      <td id=\"T_8c4aa_row4_col5\" class=\"data row4 col5\" >0.0475</td>\n",
       "      <td id=\"T_8c4aa_row4_col6\" class=\"data row4 col6\" >0.0277</td>\n",
       "      <td id=\"T_8c4aa_row4_col7\" class=\"data row4 col7\" >0.0320</td>\n",
       "    </tr>\n",
       "    <tr>\n",
       "      <th id=\"T_8c4aa_level0_row5\" class=\"row_heading level0 row5\" >ada</th>\n",
       "      <td id=\"T_8c4aa_row5_col0\" class=\"data row5 col0\" >AdaBoost Regressor</td>\n",
       "      <td id=\"T_8c4aa_row5_col1\" class=\"data row5 col1\" >2.6389</td>\n",
       "      <td id=\"T_8c4aa_row5_col2\" class=\"data row5 col2\" >11.4798</td>\n",
       "      <td id=\"T_8c4aa_row5_col3\" class=\"data row5 col3\" >3.3807</td>\n",
       "      <td id=\"T_8c4aa_row5_col4\" class=\"data row5 col4\" >0.8826</td>\n",
       "      <td id=\"T_8c4aa_row5_col5\" class=\"data row5 col5\" >0.0519</td>\n",
       "      <td id=\"T_8c4aa_row5_col6\" class=\"data row5 col6\" >0.0399</td>\n",
       "      <td id=\"T_8c4aa_row5_col7\" class=\"data row5 col7\" >0.2040</td>\n",
       "    </tr>\n",
       "    <tr>\n",
       "      <th id=\"T_8c4aa_level0_row6\" class=\"row_heading level0 row6\" >lr</th>\n",
       "      <td id=\"T_8c4aa_row6_col0\" class=\"data row6 col0\" >Linear Regression</td>\n",
       "      <td id=\"T_8c4aa_row6_col1\" class=\"data row6 col1\" >1.5360</td>\n",
       "      <td id=\"T_8c4aa_row6_col2\" class=\"data row6 col2\" >16.5700</td>\n",
       "      <td id=\"T_8c4aa_row6_col3\" class=\"data row6 col3\" >3.5776</td>\n",
       "      <td id=\"T_8c4aa_row6_col4\" class=\"data row6 col4\" >0.8655</td>\n",
       "      <td id=\"T_8c4aa_row6_col5\" class=\"data row6 col5\" >0.1700</td>\n",
       "      <td id=\"T_8c4aa_row6_col6\" class=\"data row6 col6\" >0.0199</td>\n",
       "      <td id=\"T_8c4aa_row6_col7\" class=\"data row6 col7\" >0.3150</td>\n",
       "    </tr>\n",
       "    <tr>\n",
       "      <th id=\"T_8c4aa_level0_row7\" class=\"row_heading level0 row7\" >lightgbm</th>\n",
       "      <td id=\"T_8c4aa_row7_col0\" class=\"data row7 col0\" >Light Gradient Boosting Machine</td>\n",
       "      <td id=\"T_8c4aa_row7_col1\" class=\"data row7 col1\" >1.7254</td>\n",
       "      <td id=\"T_8c4aa_row7_col2\" class=\"data row7 col2\" >15.6696</td>\n",
       "      <td id=\"T_8c4aa_row7_col3\" class=\"data row7 col3\" >3.6453</td>\n",
       "      <td id=\"T_8c4aa_row7_col4\" class=\"data row7 col4\" >0.8649</td>\n",
       "      <td id=\"T_8c4aa_row7_col5\" class=\"data row7 col5\" >0.1669</td>\n",
       "      <td id=\"T_8c4aa_row7_col6\" class=\"data row7 col6\" >0.0232</td>\n",
       "      <td id=\"T_8c4aa_row7_col7\" class=\"data row7 col7\" >0.2910</td>\n",
       "    </tr>\n",
       "    <tr>\n",
       "      <th id=\"T_8c4aa_level0_row8\" class=\"row_heading level0 row8\" >br</th>\n",
       "      <td id=\"T_8c4aa_row8_col0\" class=\"data row8 col0\" >Bayesian Ridge</td>\n",
       "      <td id=\"T_8c4aa_row8_col1\" class=\"data row8 col1\" >1.5572</td>\n",
       "      <td id=\"T_8c4aa_row8_col2\" class=\"data row8 col2\" >18.4297</td>\n",
       "      <td id=\"T_8c4aa_row8_col3\" class=\"data row8 col3\" >3.7287</td>\n",
       "      <td id=\"T_8c4aa_row8_col4\" class=\"data row8 col4\" >0.8518</td>\n",
       "      <td id=\"T_8c4aa_row8_col5\" class=\"data row8 col5\" >0.1725</td>\n",
       "      <td id=\"T_8c4aa_row8_col6\" class=\"data row8 col6\" >0.0200</td>\n",
       "      <td id=\"T_8c4aa_row8_col7\" class=\"data row8 col7\" >0.0350</td>\n",
       "    </tr>\n",
       "    <tr>\n",
       "      <th id=\"T_8c4aa_level0_row9\" class=\"row_heading level0 row9\" >et</th>\n",
       "      <td id=\"T_8c4aa_row9_col0\" class=\"data row9 col0\" >Extra Trees Regressor</td>\n",
       "      <td id=\"T_8c4aa_row9_col1\" class=\"data row9 col1\" >1.2776</td>\n",
       "      <td id=\"T_8c4aa_row9_col2\" class=\"data row9 col2\" >19.4611</td>\n",
       "      <td id=\"T_8c4aa_row9_col3\" class=\"data row9 col3\" >3.6769</td>\n",
       "      <td id=\"T_8c4aa_row9_col4\" class=\"data row9 col4\" >0.8475</td>\n",
       "      <td id=\"T_8c4aa_row9_col5\" class=\"data row9 col5\" >0.1721</td>\n",
       "      <td id=\"T_8c4aa_row9_col6\" class=\"data row9 col6\" >0.0158</td>\n",
       "      <td id=\"T_8c4aa_row9_col7\" class=\"data row9 col7\" >0.4670</td>\n",
       "    </tr>\n",
       "    <tr>\n",
       "      <th id=\"T_8c4aa_level0_row10\" class=\"row_heading level0 row10\" >ridge</th>\n",
       "      <td id=\"T_8c4aa_row10_col0\" class=\"data row10 col0\" >Ridge Regression</td>\n",
       "      <td id=\"T_8c4aa_row10_col1\" class=\"data row10 col1\" >1.8881</td>\n",
       "      <td id=\"T_8c4aa_row10_col2\" class=\"data row10 col2\" >21.5410</td>\n",
       "      <td id=\"T_8c4aa_row10_col3\" class=\"data row10 col3\" >4.0942</td>\n",
       "      <td id=\"T_8c4aa_row10_col4\" class=\"data row10 col4\" >0.8246</td>\n",
       "      <td id=\"T_8c4aa_row10_col5\" class=\"data row10 col5\" >0.1776</td>\n",
       "      <td id=\"T_8c4aa_row10_col6\" class=\"data row10 col6\" >0.0249</td>\n",
       "      <td id=\"T_8c4aa_row10_col7\" class=\"data row10 col7\" >0.0300</td>\n",
       "    </tr>\n",
       "    <tr>\n",
       "      <th id=\"T_8c4aa_level0_row11\" class=\"row_heading level0 row11\" >omp</th>\n",
       "      <td id=\"T_8c4aa_row11_col0\" class=\"data row11 col0\" >Orthogonal Matching Pursuit</td>\n",
       "      <td id=\"T_8c4aa_row11_col1\" class=\"data row11 col1\" >3.6713</td>\n",
       "      <td id=\"T_8c4aa_row11_col2\" class=\"data row11 col2\" >37.7088</td>\n",
       "      <td id=\"T_8c4aa_row11_col3\" class=\"data row11 col3\" >5.8099</td>\n",
       "      <td id=\"T_8c4aa_row11_col4\" class=\"data row11 col4\" >0.6698</td>\n",
       "      <td id=\"T_8c4aa_row11_col5\" class=\"data row11 col5\" >0.1991</td>\n",
       "      <td id=\"T_8c4aa_row11_col6\" class=\"data row11 col6\" >0.0516</td>\n",
       "      <td id=\"T_8c4aa_row11_col7\" class=\"data row11 col7\" >0.0270</td>\n",
       "    </tr>\n",
       "    <tr>\n",
       "      <th id=\"T_8c4aa_level0_row12\" class=\"row_heading level0 row12\" >en</th>\n",
       "      <td id=\"T_8c4aa_row12_col0\" class=\"data row12 col0\" >Elastic Net</td>\n",
       "      <td id=\"T_8c4aa_row12_col1\" class=\"data row12 col1\" >3.7034</td>\n",
       "      <td id=\"T_8c4aa_row12_col2\" class=\"data row12 col2\" >39.5176</td>\n",
       "      <td id=\"T_8c4aa_row12_col3\" class=\"data row12 col3\" >5.9480</td>\n",
       "      <td id=\"T_8c4aa_row12_col4\" class=\"data row12 col4\" >0.6537</td>\n",
       "      <td id=\"T_8c4aa_row12_col5\" class=\"data row12 col5\" >0.2010</td>\n",
       "      <td id=\"T_8c4aa_row12_col6\" class=\"data row12 col6\" >0.0522</td>\n",
       "      <td id=\"T_8c4aa_row12_col7\" class=\"data row12 col7\" >0.0650</td>\n",
       "    </tr>\n",
       "    <tr>\n",
       "      <th id=\"T_8c4aa_level0_row13\" class=\"row_heading level0 row13\" >lasso</th>\n",
       "      <td id=\"T_8c4aa_row13_col0\" class=\"data row13 col0\" >Lasso Regression</td>\n",
       "      <td id=\"T_8c4aa_row13_col1\" class=\"data row13 col1\" >3.7086</td>\n",
       "      <td id=\"T_8c4aa_row13_col2\" class=\"data row13 col2\" >39.6756</td>\n",
       "      <td id=\"T_8c4aa_row13_col3\" class=\"data row13 col3\" >5.9601</td>\n",
       "      <td id=\"T_8c4aa_row13_col4\" class=\"data row13 col4\" >0.6523</td>\n",
       "      <td id=\"T_8c4aa_row13_col5\" class=\"data row13 col5\" >0.2011</td>\n",
       "      <td id=\"T_8c4aa_row13_col6\" class=\"data row13 col6\" >0.0523</td>\n",
       "      <td id=\"T_8c4aa_row13_col7\" class=\"data row13 col7\" >0.0630</td>\n",
       "    </tr>\n",
       "    <tr>\n",
       "      <th id=\"T_8c4aa_level0_row14\" class=\"row_heading level0 row14\" >llar</th>\n",
       "      <td id=\"T_8c4aa_row14_col0\" class=\"data row14 col0\" >Lasso Least Angle Regression</td>\n",
       "      <td id=\"T_8c4aa_row14_col1\" class=\"data row14 col1\" >3.7087</td>\n",
       "      <td id=\"T_8c4aa_row14_col2\" class=\"data row14 col2\" >39.6765</td>\n",
       "      <td id=\"T_8c4aa_row14_col3\" class=\"data row14 col3\" >5.9601</td>\n",
       "      <td id=\"T_8c4aa_row14_col4\" class=\"data row14 col4\" >0.6523</td>\n",
       "      <td id=\"T_8c4aa_row14_col5\" class=\"data row14 col5\" >0.2011</td>\n",
       "      <td id=\"T_8c4aa_row14_col6\" class=\"data row14 col6\" >0.0523</td>\n",
       "      <td id=\"T_8c4aa_row14_col7\" class=\"data row14 col7\" >0.0280</td>\n",
       "    </tr>\n",
       "    <tr>\n",
       "      <th id=\"T_8c4aa_level0_row15\" class=\"row_heading level0 row15\" >huber</th>\n",
       "      <td id=\"T_8c4aa_row15_col0\" class=\"data row15 col0\" >Huber Regressor</td>\n",
       "      <td id=\"T_8c4aa_row15_col1\" class=\"data row15 col1\" >7.0458</td>\n",
       "      <td id=\"T_8c4aa_row15_col2\" class=\"data row15 col2\" >95.4225</td>\n",
       "      <td id=\"T_8c4aa_row15_col3\" class=\"data row15 col3\" >9.6873</td>\n",
       "      <td id=\"T_8c4aa_row15_col4\" class=\"data row15 col4\" >0.0839</td>\n",
       "      <td id=\"T_8c4aa_row15_col5\" class=\"data row15 col5\" >0.2473</td>\n",
       "      <td id=\"T_8c4aa_row15_col6\" class=\"data row15 col6\" >0.1089</td>\n",
       "      <td id=\"T_8c4aa_row15_col7\" class=\"data row15 col7\" >0.0570</td>\n",
       "    </tr>\n",
       "    <tr>\n",
       "      <th id=\"T_8c4aa_level0_row16\" class=\"row_heading level0 row16\" >knn</th>\n",
       "      <td id=\"T_8c4aa_row16_col0\" class=\"data row16 col0\" >K Neighbors Regressor</td>\n",
       "      <td id=\"T_8c4aa_row16_col1\" class=\"data row16 col1\" >7.0467</td>\n",
       "      <td id=\"T_8c4aa_row16_col2\" class=\"data row16 col2\" >100.9669</td>\n",
       "      <td id=\"T_8c4aa_row16_col3\" class=\"data row16 col3\" >9.9225</td>\n",
       "      <td id=\"T_8c4aa_row16_col4\" class=\"data row16 col4\" >0.0346</td>\n",
       "      <td id=\"T_8c4aa_row16_col5\" class=\"data row16 col5\" >0.2485</td>\n",
       "      <td id=\"T_8c4aa_row16_col6\" class=\"data row16 col6\" >0.1059</td>\n",
       "      <td id=\"T_8c4aa_row16_col7\" class=\"data row16 col7\" >0.0350</td>\n",
       "    </tr>\n",
       "    <tr>\n",
       "      <th id=\"T_8c4aa_level0_row17\" class=\"row_heading level0 row17\" >dummy</th>\n",
       "      <td id=\"T_8c4aa_row17_col0\" class=\"data row17 col0\" >Dummy Regressor</td>\n",
       "      <td id=\"T_8c4aa_row17_col1\" class=\"data row17 col1\" >7.9194</td>\n",
       "      <td id=\"T_8c4aa_row17_col2\" class=\"data row17 col2\" >104.5397</td>\n",
       "      <td id=\"T_8c4aa_row17_col3\" class=\"data row17 col3\" >10.1411</td>\n",
       "      <td id=\"T_8c4aa_row17_col4\" class=\"data row17 col4\" >-0.0037</td>\n",
       "      <td id=\"T_8c4aa_row17_col5\" class=\"data row17 col5\" >0.2511</td>\n",
       "      <td id=\"T_8c4aa_row17_col6\" class=\"data row17 col6\" >0.1194</td>\n",
       "      <td id=\"T_8c4aa_row17_col7\" class=\"data row17 col7\" >0.0550</td>\n",
       "    </tr>\n",
       "    <tr>\n",
       "      <th id=\"T_8c4aa_level0_row18\" class=\"row_heading level0 row18\" >par</th>\n",
       "      <td id=\"T_8c4aa_row18_col0\" class=\"data row18 col0\" >Passive Aggressive Regressor</td>\n",
       "      <td id=\"T_8c4aa_row18_col1\" class=\"data row18 col1\" >479.1833</td>\n",
       "      <td id=\"T_8c4aa_row18_col2\" class=\"data row18 col2\" >8416554.7644</td>\n",
       "      <td id=\"T_8c4aa_row18_col3\" class=\"data row18 col3\" >1640.1515</td>\n",
       "      <td id=\"T_8c4aa_row18_col4\" class=\"data row18 col4\" >-111397.5046</td>\n",
       "      <td id=\"T_8c4aa_row18_col5\" class=\"data row18 col5\" >1.1719</td>\n",
       "      <td id=\"T_8c4aa_row18_col6\" class=\"data row18 col6\" >6.9697</td>\n",
       "      <td id=\"T_8c4aa_row18_col7\" class=\"data row18 col7\" >0.0310</td>\n",
       "    </tr>\n",
       "    <tr>\n",
       "      <th id=\"T_8c4aa_level0_row19\" class=\"row_heading level0 row19\" >lar</th>\n",
       "      <td id=\"T_8c4aa_row19_col0\" class=\"data row19 col0\" >Least Angle Regression</td>\n",
       "      <td id=\"T_8c4aa_row19_col1\" class=\"data row19 col1\" >4578161799946.7324</td>\n",
       "      <td id=\"T_8c4aa_row19_col2\" class=\"data row19 col2\" >298251563925686468061691904.0000</td>\n",
       "      <td id=\"T_8c4aa_row19_col3\" class=\"data row19 col3\" >8620259134727.6387</td>\n",
       "      <td id=\"T_8c4aa_row19_col4\" class=\"data row19 col4\" >-2834458617300640151371776.0000</td>\n",
       "      <td id=\"T_8c4aa_row19_col5\" class=\"data row19 col5\" >12.0730</td>\n",
       "      <td id=\"T_8c4aa_row19_col6\" class=\"data row19 col6\" >65168074644.3354</td>\n",
       "      <td id=\"T_8c4aa_row19_col7\" class=\"data row19 col7\" >0.0430</td>\n",
       "    </tr>\n",
       "  </tbody>\n",
       "</table>\n"
      ],
      "text/plain": [
       "<pandas.io.formats.style.Styler at 0x7efb486902b0>"
      ]
     },
     "metadata": {},
     "output_type": "display_data"
    },
    {
     "data": {
      "application/vnd.jupyter.widget-view+json": {
       "model_id": "",
       "version_major": 2,
       "version_minor": 0
      },
      "text/plain": [
       "Processing:   0%|          | 0/85 [00:00<?, ?it/s]"
      ]
     },
     "metadata": {},
     "output_type": "display_data"
    }
   ],
   "source": [
    "best_model=compare_models()"
   ]
  },
  {
   "cell_type": "code",
   "execution_count": 28,
   "metadata": {
    "execution": {
     "iopub.execute_input": "2023-12-10T15:29:53.613012Z",
     "iopub.status.busy": "2023-12-10T15:29:53.612533Z",
     "iopub.status.idle": "2023-12-10T15:30:07.752318Z",
     "shell.execute_reply": "2023-12-10T15:30:07.751377Z",
     "shell.execute_reply.started": "2023-12-10T15:29:53.612981Z"
    }
   },
   "outputs": [
    {
     "data": {
      "text/html": [],
      "text/plain": [
       "<IPython.core.display.HTML object>"
      ]
     },
     "metadata": {},
     "output_type": "display_data"
    },
    {
     "data": {
      "text/html": [
       "<style type=\"text/css\">\n",
       "#T_53acc_row10_col0, #T_53acc_row10_col1, #T_53acc_row10_col2, #T_53acc_row10_col3, #T_53acc_row10_col4, #T_53acc_row10_col5 {\n",
       "  background: yellow;\n",
       "}\n",
       "</style>\n",
       "<table id=\"T_53acc\">\n",
       "  <thead>\n",
       "    <tr>\n",
       "      <th class=\"blank level0\" >&nbsp;</th>\n",
       "      <th id=\"T_53acc_level0_col0\" class=\"col_heading level0 col0\" >MAE</th>\n",
       "      <th id=\"T_53acc_level0_col1\" class=\"col_heading level0 col1\" >MSE</th>\n",
       "      <th id=\"T_53acc_level0_col2\" class=\"col_heading level0 col2\" >RMSE</th>\n",
       "      <th id=\"T_53acc_level0_col3\" class=\"col_heading level0 col3\" >R2</th>\n",
       "      <th id=\"T_53acc_level0_col4\" class=\"col_heading level0 col4\" >RMSLE</th>\n",
       "      <th id=\"T_53acc_level0_col5\" class=\"col_heading level0 col5\" >MAPE</th>\n",
       "    </tr>\n",
       "    <tr>\n",
       "      <th class=\"index_name level0\" >Fold</th>\n",
       "      <th class=\"blank col0\" >&nbsp;</th>\n",
       "      <th class=\"blank col1\" >&nbsp;</th>\n",
       "      <th class=\"blank col2\" >&nbsp;</th>\n",
       "      <th class=\"blank col3\" >&nbsp;</th>\n",
       "      <th class=\"blank col4\" >&nbsp;</th>\n",
       "      <th class=\"blank col5\" >&nbsp;</th>\n",
       "    </tr>\n",
       "  </thead>\n",
       "  <tbody>\n",
       "    <tr>\n",
       "      <th id=\"T_53acc_level0_row0\" class=\"row_heading level0 row0\" >0</th>\n",
       "      <td id=\"T_53acc_row0_col0\" class=\"data row0 col0\" >1.1086</td>\n",
       "      <td id=\"T_53acc_row0_col1\" class=\"data row0 col1\" >3.5799</td>\n",
       "      <td id=\"T_53acc_row0_col2\" class=\"data row0 col2\" >1.8921</td>\n",
       "      <td id=\"T_53acc_row0_col3\" class=\"data row0 col3\" >0.9633</td>\n",
       "      <td id=\"T_53acc_row0_col4\" class=\"data row0 col4\" >0.0282</td>\n",
       "      <td id=\"T_53acc_row0_col5\" class=\"data row0 col5\" >0.0164</td>\n",
       "    </tr>\n",
       "    <tr>\n",
       "      <th id=\"T_53acc_level0_row1\" class=\"row_heading level0 row1\" >1</th>\n",
       "      <td id=\"T_53acc_row1_col0\" class=\"data row1 col0\" >1.0345</td>\n",
       "      <td id=\"T_53acc_row1_col1\" class=\"data row1 col1\" >3.4669</td>\n",
       "      <td id=\"T_53acc_row1_col2\" class=\"data row1 col2\" >1.8620</td>\n",
       "      <td id=\"T_53acc_row1_col3\" class=\"data row1 col3\" >0.9633</td>\n",
       "      <td id=\"T_53acc_row1_col4\" class=\"data row1 col4\" >0.0284</td>\n",
       "      <td id=\"T_53acc_row1_col5\" class=\"data row1 col5\" >0.0159</td>\n",
       "    </tr>\n",
       "    <tr>\n",
       "      <th id=\"T_53acc_level0_row2\" class=\"row_heading level0 row2\" >2</th>\n",
       "      <td id=\"T_53acc_row2_col0\" class=\"data row2 col0\" >1.4740</td>\n",
       "      <td id=\"T_53acc_row2_col1\" class=\"data row2 col1\" >33.0704</td>\n",
       "      <td id=\"T_53acc_row2_col2\" class=\"data row2 col2\" >5.7507</td>\n",
       "      <td id=\"T_53acc_row2_col3\" class=\"data row2 col3\" >0.7432</td>\n",
       "      <td id=\"T_53acc_row2_col4\" class=\"data row2 col4\" >0.3508</td>\n",
       "      <td id=\"T_53acc_row2_col5\" class=\"data row2 col5\" >0.0149</td>\n",
       "    </tr>\n",
       "    <tr>\n",
       "      <th id=\"T_53acc_level0_row3\" class=\"row_heading level0 row3\" >3</th>\n",
       "      <td id=\"T_53acc_row3_col0\" class=\"data row3 col0\" >2.0055</td>\n",
       "      <td id=\"T_53acc_row3_col1\" class=\"data row3 col1\" >72.0983</td>\n",
       "      <td id=\"T_53acc_row3_col2\" class=\"data row3 col2\" >8.4911</td>\n",
       "      <td id=\"T_53acc_row3_col3\" class=\"data row3 col3\" >0.5574</td>\n",
       "      <td id=\"T_53acc_row3_col4\" class=\"data row3 col4\" >0.5035</td>\n",
       "      <td id=\"T_53acc_row3_col5\" class=\"data row3 col5\" >0.0157</td>\n",
       "    </tr>\n",
       "    <tr>\n",
       "      <th id=\"T_53acc_level0_row4\" class=\"row_heading level0 row4\" >4</th>\n",
       "      <td id=\"T_53acc_row4_col0\" class=\"data row4 col0\" >0.9683</td>\n",
       "      <td id=\"T_53acc_row4_col1\" class=\"data row4 col1\" >3.0683</td>\n",
       "      <td id=\"T_53acc_row4_col2\" class=\"data row4 col2\" >1.7516</td>\n",
       "      <td id=\"T_53acc_row4_col3\" class=\"data row4 col3\" >0.9637</td>\n",
       "      <td id=\"T_53acc_row4_col4\" class=\"data row4 col4\" >0.0242</td>\n",
       "      <td id=\"T_53acc_row4_col5\" class=\"data row4 col5\" >0.0140</td>\n",
       "    </tr>\n",
       "    <tr>\n",
       "      <th id=\"T_53acc_level0_row5\" class=\"row_heading level0 row5\" >5</th>\n",
       "      <td id=\"T_53acc_row5_col0\" class=\"data row5 col0\" >0.9909</td>\n",
       "      <td id=\"T_53acc_row5_col1\" class=\"data row5 col1\" >2.8750</td>\n",
       "      <td id=\"T_53acc_row5_col2\" class=\"data row5 col2\" >1.6956</td>\n",
       "      <td id=\"T_53acc_row5_col3\" class=\"data row5 col3\" >0.9588</td>\n",
       "      <td id=\"T_53acc_row5_col4\" class=\"data row5 col4\" >0.0251</td>\n",
       "      <td id=\"T_53acc_row5_col5\" class=\"data row5 col5\" >0.0146</td>\n",
       "    </tr>\n",
       "    <tr>\n",
       "      <th id=\"T_53acc_level0_row6\" class=\"row_heading level0 row6\" >6</th>\n",
       "      <td id=\"T_53acc_row6_col0\" class=\"data row6 col0\" >1.1428</td>\n",
       "      <td id=\"T_53acc_row6_col1\" class=\"data row6 col1\" >3.6679</td>\n",
       "      <td id=\"T_53acc_row6_col2\" class=\"data row6 col2\" >1.9152</td>\n",
       "      <td id=\"T_53acc_row6_col3\" class=\"data row6 col3\" >0.9623</td>\n",
       "      <td id=\"T_53acc_row6_col4\" class=\"data row6 col4\" >0.0302</td>\n",
       "      <td id=\"T_53acc_row6_col5\" class=\"data row6 col5\" >0.0182</td>\n",
       "    </tr>\n",
       "    <tr>\n",
       "      <th id=\"T_53acc_level0_row7\" class=\"row_heading level0 row7\" >7</th>\n",
       "      <td id=\"T_53acc_row7_col0\" class=\"data row7 col0\" >1.5972</td>\n",
       "      <td id=\"T_53acc_row7_col1\" class=\"data row7 col1\" >30.4563</td>\n",
       "      <td id=\"T_53acc_row7_col2\" class=\"data row7 col2\" >5.5187</td>\n",
       "      <td id=\"T_53acc_row7_col3\" class=\"data row7 col3\" >0.7529</td>\n",
       "      <td id=\"T_53acc_row7_col4\" class=\"data row7 col4\" >0.3457</td>\n",
       "      <td id=\"T_53acc_row7_col5\" class=\"data row7 col5\" >0.0182</td>\n",
       "    </tr>\n",
       "    <tr>\n",
       "      <th id=\"T_53acc_level0_row8\" class=\"row_heading level0 row8\" >8</th>\n",
       "      <td id=\"T_53acc_row8_col0\" class=\"data row8 col0\" >1.4590</td>\n",
       "      <td id=\"T_53acc_row8_col1\" class=\"data row8 col1\" >39.8289</td>\n",
       "      <td id=\"T_53acc_row8_col2\" class=\"data row8 col2\" >6.3110</td>\n",
       "      <td id=\"T_53acc_row8_col3\" class=\"data row8 col3\" >0.6458</td>\n",
       "      <td id=\"T_53acc_row8_col4\" class=\"data row8 col4\" >0.3597</td>\n",
       "      <td id=\"T_53acc_row8_col5\" class=\"data row8 col5\" >0.0143</td>\n",
       "    </tr>\n",
       "    <tr>\n",
       "      <th id=\"T_53acc_level0_row9\" class=\"row_heading level0 row9\" >9</th>\n",
       "      <td id=\"T_53acc_row9_col0\" class=\"data row9 col0\" >0.9955</td>\n",
       "      <td id=\"T_53acc_row9_col1\" class=\"data row9 col1\" >2.4989</td>\n",
       "      <td id=\"T_53acc_row9_col2\" class=\"data row9 col2\" >1.5808</td>\n",
       "      <td id=\"T_53acc_row9_col3\" class=\"data row9 col3\" >0.9647</td>\n",
       "      <td id=\"T_53acc_row9_col4\" class=\"data row9 col4\" >0.0253</td>\n",
       "      <td id=\"T_53acc_row9_col5\" class=\"data row9 col5\" >0.0158</td>\n",
       "    </tr>\n",
       "    <tr>\n",
       "      <th id=\"T_53acc_level0_row10\" class=\"row_heading level0 row10\" >Mean</th>\n",
       "      <td id=\"T_53acc_row10_col0\" class=\"data row10 col0\" >1.2776</td>\n",
       "      <td id=\"T_53acc_row10_col1\" class=\"data row10 col1\" >19.4611</td>\n",
       "      <td id=\"T_53acc_row10_col2\" class=\"data row10 col2\" >3.6769</td>\n",
       "      <td id=\"T_53acc_row10_col3\" class=\"data row10 col3\" >0.8475</td>\n",
       "      <td id=\"T_53acc_row10_col4\" class=\"data row10 col4\" >0.1721</td>\n",
       "      <td id=\"T_53acc_row10_col5\" class=\"data row10 col5\" >0.0158</td>\n",
       "    </tr>\n",
       "    <tr>\n",
       "      <th id=\"T_53acc_level0_row11\" class=\"row_heading level0 row11\" >Std</th>\n",
       "      <td id=\"T_53acc_row11_col0\" class=\"data row11 col0\" >0.3266</td>\n",
       "      <td id=\"T_53acc_row11_col1\" class=\"data row11 col1\" >22.5402</td>\n",
       "      <td id=\"T_53acc_row11_col2\" class=\"data row11 col2\" >2.4376</td>\n",
       "      <td id=\"T_53acc_row11_col3\" class=\"data row11 col3\" >0.1498</td>\n",
       "      <td id=\"T_53acc_row11_col4\" class=\"data row11 col4\" >0.1827</td>\n",
       "      <td id=\"T_53acc_row11_col5\" class=\"data row11 col5\" >0.0014</td>\n",
       "    </tr>\n",
       "  </tbody>\n",
       "</table>\n"
      ],
      "text/plain": [
       "<pandas.io.formats.style.Styler at 0x7efb48ab5300>"
      ]
     },
     "metadata": {},
     "output_type": "display_data"
    },
    {
     "data": {
      "application/vnd.jupyter.widget-view+json": {
       "model_id": "",
       "version_major": 2,
       "version_minor": 0
      },
      "text/plain": [
       "Processing:   0%|          | 0/4 [00:00<?, ?it/s]"
      ]
     },
     "metadata": {},
     "output_type": "display_data"
    },
    {
     "data": {
      "text/html": [
       "<style>#sk-container-id-1 {color: black;background-color: white;}#sk-container-id-1 pre{padding: 0;}#sk-container-id-1 div.sk-toggleable {background-color: white;}#sk-container-id-1 label.sk-toggleable__label {cursor: pointer;display: block;width: 100%;margin-bottom: 0;padding: 0.3em;box-sizing: border-box;text-align: center;}#sk-container-id-1 label.sk-toggleable__label-arrow:before {content: \"▸\";float: left;margin-right: 0.25em;color: #696969;}#sk-container-id-1 label.sk-toggleable__label-arrow:hover:before {color: black;}#sk-container-id-1 div.sk-estimator:hover label.sk-toggleable__label-arrow:before {color: black;}#sk-container-id-1 div.sk-toggleable__content {max-height: 0;max-width: 0;overflow: hidden;text-align: left;background-color: #f0f8ff;}#sk-container-id-1 div.sk-toggleable__content pre {margin: 0.2em;color: black;border-radius: 0.25em;background-color: #f0f8ff;}#sk-container-id-1 input.sk-toggleable__control:checked~div.sk-toggleable__content {max-height: 200px;max-width: 100%;overflow: auto;}#sk-container-id-1 input.sk-toggleable__control:checked~label.sk-toggleable__label-arrow:before {content: \"▾\";}#sk-container-id-1 div.sk-estimator input.sk-toggleable__control:checked~label.sk-toggleable__label {background-color: #d4ebff;}#sk-container-id-1 div.sk-label input.sk-toggleable__control:checked~label.sk-toggleable__label {background-color: #d4ebff;}#sk-container-id-1 input.sk-hidden--visually {border: 0;clip: rect(1px 1px 1px 1px);clip: rect(1px, 1px, 1px, 1px);height: 1px;margin: -1px;overflow: hidden;padding: 0;position: absolute;width: 1px;}#sk-container-id-1 div.sk-estimator {font-family: monospace;background-color: #f0f8ff;border: 1px dotted black;border-radius: 0.25em;box-sizing: border-box;margin-bottom: 0.5em;}#sk-container-id-1 div.sk-estimator:hover {background-color: #d4ebff;}#sk-container-id-1 div.sk-parallel-item::after {content: \"\";width: 100%;border-bottom: 1px solid gray;flex-grow: 1;}#sk-container-id-1 div.sk-label:hover label.sk-toggleable__label {background-color: #d4ebff;}#sk-container-id-1 div.sk-serial::before {content: \"\";position: absolute;border-left: 1px solid gray;box-sizing: border-box;top: 0;bottom: 0;left: 50%;z-index: 0;}#sk-container-id-1 div.sk-serial {display: flex;flex-direction: column;align-items: center;background-color: white;padding-right: 0.2em;padding-left: 0.2em;position: relative;}#sk-container-id-1 div.sk-item {position: relative;z-index: 1;}#sk-container-id-1 div.sk-parallel {display: flex;align-items: stretch;justify-content: center;background-color: white;position: relative;}#sk-container-id-1 div.sk-item::before, #sk-container-id-1 div.sk-parallel-item::before {content: \"\";position: absolute;border-left: 1px solid gray;box-sizing: border-box;top: 0;bottom: 0;left: 50%;z-index: -1;}#sk-container-id-1 div.sk-parallel-item {display: flex;flex-direction: column;z-index: 1;position: relative;background-color: white;}#sk-container-id-1 div.sk-parallel-item:first-child::after {align-self: flex-end;width: 50%;}#sk-container-id-1 div.sk-parallel-item:last-child::after {align-self: flex-start;width: 50%;}#sk-container-id-1 div.sk-parallel-item:only-child::after {width: 0;}#sk-container-id-1 div.sk-dashed-wrapped {border: 1px dashed gray;margin: 0 0.4em 0.5em 0.4em;box-sizing: border-box;padding-bottom: 0.4em;background-color: white;}#sk-container-id-1 div.sk-label label {font-family: monospace;font-weight: bold;display: inline-block;line-height: 1.2em;}#sk-container-id-1 div.sk-label-container {text-align: center;}#sk-container-id-1 div.sk-container {/* jupyter's `normalize.less` sets `[hidden] { display: none; }` but bootstrap.min.css set `[hidden] { display: none !important; }` so we also need the `!important` here to be able to override the default hidden behavior on the sphinx rendered scikit-learn.org. See: https://github.com/scikit-learn/scikit-learn/issues/21755 */display: inline-block !important;position: relative;}#sk-container-id-1 div.sk-text-repr-fallback {display: none;}</style><div id=\"sk-container-id-1\" class=\"sk-top-container\"><div class=\"sk-text-repr-fallback\"><pre>ExtraTreesRegressor(n_jobs=-1, random_state=2737)</pre><b>In a Jupyter environment, please rerun this cell to show the HTML representation or trust the notebook. <br />On GitHub, the HTML representation is unable to render, please try loading this page with nbviewer.org.</b></div><div class=\"sk-container\" hidden><div class=\"sk-item\"><div class=\"sk-estimator sk-toggleable\"><input class=\"sk-toggleable__control sk-hidden--visually\" id=\"sk-estimator-id-1\" type=\"checkbox\" checked><label for=\"sk-estimator-id-1\" class=\"sk-toggleable__label sk-toggleable__label-arrow\">ExtraTreesRegressor</label><div class=\"sk-toggleable__content\"><pre>ExtraTreesRegressor(n_jobs=-1, random_state=2737)</pre></div></div></div></div></div>"
      ],
      "text/plain": [
       "ExtraTreesRegressor(n_jobs=-1, random_state=2737)"
      ]
     },
     "execution_count": 28,
     "metadata": {},
     "output_type": "execute_result"
    }
   ],
   "source": [
    "# create a model\n",
    "model = create_model('et')\n",
    "\n",
    "# fit the model by specifying the target variable\n",
    "model.fit(dftrain_get, dftrain_get['Life expectancy '])"
   ]
  },
  {
   "cell_type": "code",
   "execution_count": 29,
   "metadata": {
    "execution": {
     "iopub.execute_input": "2023-12-10T15:30:44.197234Z",
     "iopub.status.busy": "2023-12-10T15:30:44.196782Z",
     "iopub.status.idle": "2023-12-10T15:30:44.215721Z",
     "shell.execute_reply": "2023-12-10T15:30:44.214704Z",
     "shell.execute_reply.started": "2023-12-10T15:30:44.197199Z"
    }
   },
   "outputs": [
    {
     "name": "stdout",
     "output_type": "stream",
     "text": [
      "<class 'pandas.core.frame.DataFrame'>\n",
      "RangeIndex: 2056 entries, 0 to 2055\n",
      "Columns: 209 entries, Year to Status_Developing\n",
      "dtypes: bool(189), float64(16), int64(4)\n",
      "memory usage: 700.9 KB\n"
     ]
    }
   ],
   "source": [
    "dftrain_get.info()"
   ]
  },
  {
   "cell_type": "code",
   "execution_count": 30,
   "metadata": {
    "execution": {
     "iopub.execute_input": "2023-12-10T15:30:51.962300Z",
     "iopub.status.busy": "2023-12-10T15:30:51.961949Z",
     "iopub.status.idle": "2023-12-10T15:30:51.978854Z",
     "shell.execute_reply": "2023-12-10T15:30:51.977499Z",
     "shell.execute_reply.started": "2023-12-10T15:30:51.962273Z"
    }
   },
   "outputs": [
    {
     "name": "stdout",
     "output_type": "stream",
     "text": [
      "<class 'pandas.core.frame.DataFrame'>\n",
      "RangeIndex: 882 entries, 0 to 881\n",
      "Columns: 206 entries, Year to Status_Developing\n",
      "dtypes: bool(186), float64(15), int64(5)\n",
      "memory usage: 298.1 KB\n"
     ]
    }
   ],
   "source": [
    "dftest_get.info()"
   ]
  },
  {
   "cell_type": "code",
   "execution_count": 32,
   "metadata": {
    "execution": {
     "iopub.execute_input": "2023-12-10T15:34:56.433167Z",
     "iopub.status.busy": "2023-12-10T15:34:56.432789Z",
     "iopub.status.idle": "2023-12-10T15:34:56.438948Z",
     "shell.execute_reply": "2023-12-10T15:34:56.438335Z",
     "shell.execute_reply.started": "2023-12-10T15:34:56.433139Z"
    }
   },
   "outputs": [
    {
     "name": "stdout",
     "output_type": "stream",
     "text": [
      "Index(['Year', 'Life expectancy ', 'Adult Mortality', 'infant deaths',\n",
      "       'Alcohol', 'percentage expenditure', 'Hepatitis B', 'Measles ', ' BMI ',\n",
      "       'under-five deaths ',\n",
      "       ...\n",
      "       'Country_United States of America', 'Country_Uruguay',\n",
      "       'Country_Uzbekistan', 'Country_Vanuatu',\n",
      "       'Country_Venezuela (Bolivarian Republic of)', 'Country_Viet Nam',\n",
      "       'Country_Yemen', 'Country_Zambia', 'Country_Zimbabwe',\n",
      "       'Status_Developing'],\n",
      "      dtype='object', length=209)\n"
     ]
    }
   ],
   "source": [
    "print(dftrain_get.columns)"
   ]
  },
  {
   "cell_type": "code",
   "execution_count": 33,
   "metadata": {
    "execution": {
     "iopub.execute_input": "2023-12-10T15:35:14.619562Z",
     "iopub.status.busy": "2023-12-10T15:35:14.619179Z",
     "iopub.status.idle": "2023-12-10T15:35:14.626260Z",
     "shell.execute_reply": "2023-12-10T15:35:14.624887Z",
     "shell.execute_reply.started": "2023-12-10T15:35:14.619531Z"
    }
   },
   "outputs": [
    {
     "name": "stdout",
     "output_type": "stream",
     "text": [
      "Index(['Year', 'Adult Mortality', 'infant deaths', 'Alcohol',\n",
      "       'percentage expenditure', 'Hepatitis B', 'Measles ', ' BMI ',\n",
      "       'under-five deaths ', 'Polio',\n",
      "       ...\n",
      "       'Country_United States of America', 'Country_Uruguay',\n",
      "       'Country_Uzbekistan', 'Country_Vanuatu',\n",
      "       'Country_Venezuela (Bolivarian Republic of)', 'Country_Viet Nam',\n",
      "       'Country_Yemen', 'Country_Zambia', 'Country_Zimbabwe',\n",
      "       'Status_Developing'],\n",
      "      dtype='object', length=206)\n"
     ]
    }
   ],
   "source": [
    "print(dftest_get.columns)"
   ]
  },
  {
   "cell_type": "code",
   "execution_count": 34,
   "metadata": {
    "execution": {
     "iopub.execute_input": "2023-12-10T15:36:23.808159Z",
     "iopub.status.busy": "2023-12-10T15:36:23.807774Z",
     "iopub.status.idle": "2023-12-10T15:36:23.818611Z",
     "shell.execute_reply": "2023-12-10T15:36:23.817022Z",
     "shell.execute_reply.started": "2023-12-10T15:36:23.808130Z"
    }
   },
   "outputs": [],
   "source": [
    "missing_columns = set(dftrain_get.columns) - set(dftest_get.columns)\n",
    "for column in missing_columns:\n",
    "    dftest_get[column] = 0  # Eksik sütunları sıfırlarla doldurabiliriz."
   ]
  },
  {
   "cell_type": "code",
   "execution_count": 41,
   "metadata": {
    "execution": {
     "iopub.execute_input": "2023-12-10T15:48:45.632173Z",
     "iopub.status.busy": "2023-12-10T15:48:45.631777Z",
     "iopub.status.idle": "2023-12-10T15:48:45.907430Z",
     "shell.execute_reply": "2023-12-10T15:48:45.906160Z",
     "shell.execute_reply.started": "2023-12-10T15:48:45.632141Z"
    }
   },
   "outputs": [
    {
     "data": {
      "text/html": [],
      "text/plain": [
       "<IPython.core.display.HTML object>"
      ]
     },
     "metadata": {},
     "output_type": "display_data"
    },
    {
     "ename": "ValueError",
     "evalue": "The feature names should match those that were passed during fit.\nFeature names seen at fit time, yet now missing:\n- Life expectancy \n",
     "output_type": "error",
     "traceback": [
      "\u001b[0;31m---------------------------------------------------------------------------\u001b[0m",
      "\u001b[0;31mValueError\u001b[0m                                Traceback (most recent call last)",
      "Cell \u001b[0;32mIn[41], line 5\u001b[0m\n\u001b[1;32m      2\u001b[0m dftest_get \u001b[38;5;241m=\u001b[39m dftest_get[dftrain_get\u001b[38;5;241m.\u001b[39mcolumns]\n\u001b[1;32m      4\u001b[0m \u001b[38;5;66;03m# Eğitilmiş modeli kullanarak tahmin yap\u001b[39;00m\n\u001b[0;32m----> 5\u001b[0m predictions \u001b[38;5;241m=\u001b[39m \u001b[43mpredict_model\u001b[49m\u001b[43m(\u001b[49m\u001b[43mmodel\u001b[49m\u001b[43m,\u001b[49m\u001b[43m \u001b[49m\u001b[43mdata\u001b[49m\u001b[38;5;241;43m=\u001b[39;49m\u001b[43mdftest_get\u001b[49m\u001b[43m)\u001b[49m\n\u001b[1;32m      7\u001b[0m \u001b[38;5;66;03m# 'Row_id' ve 'Predicted_Life_Expectancy' sütunlarını içeren bir submission veri çerçevesi oluştur\u001b[39;00m\n\u001b[1;32m      8\u001b[0m submission \u001b[38;5;241m=\u001b[39m dftest_get[[\u001b[38;5;124m'\u001b[39m\u001b[38;5;124mRow_id\u001b[39m\u001b[38;5;124m'\u001b[39m]]\n",
      "File \u001b[0;32m/opt/conda/lib/python3.10/site-packages/pycaret/regression/functional.py:1895\u001b[0m, in \u001b[0;36mpredict_model\u001b[0;34m(estimator, data, round, verbose)\u001b[0m\n\u001b[1;32m   1892\u001b[0m \u001b[38;5;28;01mif\u001b[39;00m experiment \u001b[38;5;129;01mis\u001b[39;00m \u001b[38;5;28;01mNone\u001b[39;00m:\n\u001b[1;32m   1893\u001b[0m     experiment \u001b[38;5;241m=\u001b[39m _EXPERIMENT_CLASS()\n\u001b[0;32m-> 1895\u001b[0m \u001b[38;5;28;01mreturn\u001b[39;00m \u001b[43mexperiment\u001b[49m\u001b[38;5;241;43m.\u001b[39;49m\u001b[43mpredict_model\u001b[49m\u001b[43m(\u001b[49m\n\u001b[1;32m   1896\u001b[0m \u001b[43m    \u001b[49m\u001b[43mestimator\u001b[49m\u001b[38;5;241;43m=\u001b[39;49m\u001b[43mestimator\u001b[49m\u001b[43m,\u001b[49m\n\u001b[1;32m   1897\u001b[0m \u001b[43m    \u001b[49m\u001b[43mdata\u001b[49m\u001b[38;5;241;43m=\u001b[39;49m\u001b[43mdata\u001b[49m\u001b[43m,\u001b[49m\n\u001b[1;32m   1898\u001b[0m \u001b[43m    \u001b[49m\u001b[38;5;28;43mround\u001b[39;49m\u001b[38;5;241;43m=\u001b[39;49m\u001b[38;5;28;43mround\u001b[39;49m\u001b[43m,\u001b[49m\n\u001b[1;32m   1899\u001b[0m \u001b[43m    \u001b[49m\u001b[43mverbose\u001b[49m\u001b[38;5;241;43m=\u001b[39;49m\u001b[43mverbose\u001b[49m\u001b[43m,\u001b[49m\n\u001b[1;32m   1900\u001b[0m \u001b[43m\u001b[49m\u001b[43m)\u001b[49m\n",
      "File \u001b[0;32m/opt/conda/lib/python3.10/site-packages/pycaret/regression/oop.py:2188\u001b[0m, in \u001b[0;36mRegressionExperiment.predict_model\u001b[0;34m(self, estimator, data, round, verbose)\u001b[0m\n\u001b[1;32m   2134\u001b[0m \u001b[38;5;28;01mdef\u001b[39;00m \u001b[38;5;21mpredict_model\u001b[39m(\n\u001b[1;32m   2135\u001b[0m     \u001b[38;5;28mself\u001b[39m,\n\u001b[1;32m   2136\u001b[0m     estimator,\n\u001b[0;32m   (...)\u001b[0m\n\u001b[1;32m   2139\u001b[0m     verbose: \u001b[38;5;28mbool\u001b[39m \u001b[38;5;241m=\u001b[39m \u001b[38;5;28;01mTrue\u001b[39;00m,\n\u001b[1;32m   2140\u001b[0m ) \u001b[38;5;241m-\u001b[39m\u001b[38;5;241m>\u001b[39m pd\u001b[38;5;241m.\u001b[39mDataFrame:\n\u001b[1;32m   2141\u001b[0m \u001b[38;5;250m    \u001b[39m\u001b[38;5;124;03m\"\"\"\u001b[39;00m\n\u001b[1;32m   2142\u001b[0m \u001b[38;5;124;03m    This function predicts ``Label`` using a trained model. When ``data`` is\u001b[39;00m\n\u001b[1;32m   2143\u001b[0m \u001b[38;5;124;03m    None, it predicts label on the holdout set.\u001b[39;00m\n\u001b[0;32m   (...)\u001b[0m\n\u001b[1;32m   2185\u001b[0m \n\u001b[1;32m   2186\u001b[0m \u001b[38;5;124;03m    \"\"\"\u001b[39;00m\n\u001b[0;32m-> 2188\u001b[0m     \u001b[38;5;28;01mreturn\u001b[39;00m \u001b[38;5;28;43msuper\u001b[39;49m\u001b[43m(\u001b[49m\u001b[43m)\u001b[49m\u001b[38;5;241;43m.\u001b[39;49m\u001b[43mpredict_model\u001b[49m\u001b[43m(\u001b[49m\n\u001b[1;32m   2189\u001b[0m \u001b[43m        \u001b[49m\u001b[43mestimator\u001b[49m\u001b[38;5;241;43m=\u001b[39;49m\u001b[43mestimator\u001b[49m\u001b[43m,\u001b[49m\n\u001b[1;32m   2190\u001b[0m \u001b[43m        \u001b[49m\u001b[43mdata\u001b[49m\u001b[38;5;241;43m=\u001b[39;49m\u001b[43mdata\u001b[49m\u001b[43m,\u001b[49m\n\u001b[1;32m   2191\u001b[0m \u001b[43m        \u001b[49m\u001b[43mprobability_threshold\u001b[49m\u001b[38;5;241;43m=\u001b[39;49m\u001b[38;5;28;43;01mNone\u001b[39;49;00m\u001b[43m,\u001b[49m\n\u001b[1;32m   2192\u001b[0m \u001b[43m        \u001b[49m\u001b[43mencoded_labels\u001b[49m\u001b[38;5;241;43m=\u001b[39;49m\u001b[38;5;28;43;01mFalse\u001b[39;49;00m\u001b[43m,\u001b[49m\n\u001b[1;32m   2193\u001b[0m \u001b[43m        \u001b[49m\u001b[38;5;28;43mround\u001b[39;49m\u001b[38;5;241;43m=\u001b[39;49m\u001b[38;5;28;43mround\u001b[39;49m\u001b[43m,\u001b[49m\n\u001b[1;32m   2194\u001b[0m \u001b[43m        \u001b[49m\u001b[43mverbose\u001b[49m\u001b[38;5;241;43m=\u001b[39;49m\u001b[43mverbose\u001b[49m\u001b[43m,\u001b[49m\n\u001b[1;32m   2195\u001b[0m \u001b[43m    \u001b[49m\u001b[43m)\u001b[49m\n",
      "File \u001b[0;32m/opt/conda/lib/python3.10/site-packages/pycaret/internal/pycaret_experiment/supervised_experiment.py:4984\u001b[0m, in \u001b[0;36m_SupervisedExperiment.predict_model\u001b[0;34m(self, estimator, data, probability_threshold, encoded_labels, raw_score, round, verbose, ml_usecase, preprocess)\u001b[0m\n\u001b[1;32m   4981\u001b[0m         probability_threshold \u001b[38;5;241m=\u001b[39m estimator\u001b[38;5;241m.\u001b[39mprobability_threshold\n\u001b[1;32m   4982\u001b[0m     estimator \u001b[38;5;241m=\u001b[39m get_estimator_from_meta_estimator(estimator)\n\u001b[0;32m-> 4984\u001b[0m pred \u001b[38;5;241m=\u001b[39m np\u001b[38;5;241m.\u001b[39mnan_to_num(\u001b[43mestimator\u001b[49m\u001b[38;5;241;43m.\u001b[39;49m\u001b[43mpredict\u001b[49m\u001b[43m(\u001b[49m\u001b[43mX_test_\u001b[49m\u001b[43m)\u001b[49m)\n\u001b[1;32m   4985\u001b[0m pred \u001b[38;5;241m=\u001b[39m pipeline\u001b[38;5;241m.\u001b[39minverse_transform(pred)\n\u001b[1;32m   4986\u001b[0m \u001b[38;5;66;03m# Need to convert labels back to numbers\u001b[39;00m\n\u001b[1;32m   4987\u001b[0m \u001b[38;5;66;03m# TODO optimize\u001b[39;00m\n",
      "File \u001b[0;32m/opt/conda/lib/python3.10/site-packages/sklearn/ensemble/_forest.py:981\u001b[0m, in \u001b[0;36mForestRegressor.predict\u001b[0;34m(self, X)\u001b[0m\n\u001b[1;32m    979\u001b[0m check_is_fitted(\u001b[38;5;28mself\u001b[39m)\n\u001b[1;32m    980\u001b[0m \u001b[38;5;66;03m# Check data\u001b[39;00m\n\u001b[0;32m--> 981\u001b[0m X \u001b[38;5;241m=\u001b[39m \u001b[38;5;28;43mself\u001b[39;49m\u001b[38;5;241;43m.\u001b[39;49m\u001b[43m_validate_X_predict\u001b[49m\u001b[43m(\u001b[49m\u001b[43mX\u001b[49m\u001b[43m)\u001b[49m\n\u001b[1;32m    983\u001b[0m \u001b[38;5;66;03m# Assign chunk of trees to jobs\u001b[39;00m\n\u001b[1;32m    984\u001b[0m n_jobs, _, _ \u001b[38;5;241m=\u001b[39m _partition_estimators(\u001b[38;5;28mself\u001b[39m\u001b[38;5;241m.\u001b[39mn_estimators, \u001b[38;5;28mself\u001b[39m\u001b[38;5;241m.\u001b[39mn_jobs)\n",
      "File \u001b[0;32m/opt/conda/lib/python3.10/site-packages/sklearn/ensemble/_forest.py:602\u001b[0m, in \u001b[0;36mBaseForest._validate_X_predict\u001b[0;34m(self, X)\u001b[0m\n\u001b[1;32m    599\u001b[0m \u001b[38;5;250m\u001b[39m\u001b[38;5;124;03m\"\"\"\u001b[39;00m\n\u001b[1;32m    600\u001b[0m \u001b[38;5;124;03mValidate X whenever one tries to predict, apply, predict_proba.\"\"\"\u001b[39;00m\n\u001b[1;32m    601\u001b[0m check_is_fitted(\u001b[38;5;28mself\u001b[39m)\n\u001b[0;32m--> 602\u001b[0m X \u001b[38;5;241m=\u001b[39m \u001b[38;5;28;43mself\u001b[39;49m\u001b[38;5;241;43m.\u001b[39;49m\u001b[43m_validate_data\u001b[49m\u001b[43m(\u001b[49m\u001b[43mX\u001b[49m\u001b[43m,\u001b[49m\u001b[43m \u001b[49m\u001b[43mdtype\u001b[49m\u001b[38;5;241;43m=\u001b[39;49m\u001b[43mDTYPE\u001b[49m\u001b[43m,\u001b[49m\u001b[43m \u001b[49m\u001b[43maccept_sparse\u001b[49m\u001b[38;5;241;43m=\u001b[39;49m\u001b[38;5;124;43m\"\u001b[39;49m\u001b[38;5;124;43mcsr\u001b[39;49m\u001b[38;5;124;43m\"\u001b[39;49m\u001b[43m,\u001b[49m\u001b[43m \u001b[49m\u001b[43mreset\u001b[49m\u001b[38;5;241;43m=\u001b[39;49m\u001b[38;5;28;43;01mFalse\u001b[39;49;00m\u001b[43m)\u001b[49m\n\u001b[1;32m    603\u001b[0m \u001b[38;5;28;01mif\u001b[39;00m issparse(X) \u001b[38;5;129;01mand\u001b[39;00m (X\u001b[38;5;241m.\u001b[39mindices\u001b[38;5;241m.\u001b[39mdtype \u001b[38;5;241m!=\u001b[39m np\u001b[38;5;241m.\u001b[39mintc \u001b[38;5;129;01mor\u001b[39;00m X\u001b[38;5;241m.\u001b[39mindptr\u001b[38;5;241m.\u001b[39mdtype \u001b[38;5;241m!=\u001b[39m np\u001b[38;5;241m.\u001b[39mintc):\n\u001b[1;32m    604\u001b[0m     \u001b[38;5;28;01mraise\u001b[39;00m \u001b[38;5;167;01mValueError\u001b[39;00m(\u001b[38;5;124m\"\u001b[39m\u001b[38;5;124mNo support for np.int64 index based sparse matrices\u001b[39m\u001b[38;5;124m\"\u001b[39m)\n",
      "File \u001b[0;32m/opt/conda/lib/python3.10/site-packages/sklearn/base.py:548\u001b[0m, in \u001b[0;36mBaseEstimator._validate_data\u001b[0;34m(self, X, y, reset, validate_separately, **check_params)\u001b[0m\n\u001b[1;32m    483\u001b[0m \u001b[38;5;28;01mdef\u001b[39;00m \u001b[38;5;21m_validate_data\u001b[39m(\n\u001b[1;32m    484\u001b[0m     \u001b[38;5;28mself\u001b[39m,\n\u001b[1;32m    485\u001b[0m     X\u001b[38;5;241m=\u001b[39m\u001b[38;5;124m\"\u001b[39m\u001b[38;5;124mno_validation\u001b[39m\u001b[38;5;124m\"\u001b[39m,\n\u001b[0;32m   (...)\u001b[0m\n\u001b[1;32m    489\u001b[0m     \u001b[38;5;241m*\u001b[39m\u001b[38;5;241m*\u001b[39mcheck_params,\n\u001b[1;32m    490\u001b[0m ):\n\u001b[1;32m    491\u001b[0m \u001b[38;5;250m    \u001b[39m\u001b[38;5;124;03m\"\"\"Validate input data and set or check the `n_features_in_` attribute.\u001b[39;00m\n\u001b[1;32m    492\u001b[0m \n\u001b[1;32m    493\u001b[0m \u001b[38;5;124;03m    Parameters\u001b[39;00m\n\u001b[0;32m   (...)\u001b[0m\n\u001b[1;32m    546\u001b[0m \u001b[38;5;124;03m        validated.\u001b[39;00m\n\u001b[1;32m    547\u001b[0m \u001b[38;5;124;03m    \"\"\"\u001b[39;00m\n\u001b[0;32m--> 548\u001b[0m     \u001b[38;5;28;43mself\u001b[39;49m\u001b[38;5;241;43m.\u001b[39;49m\u001b[43m_check_feature_names\u001b[49m\u001b[43m(\u001b[49m\u001b[43mX\u001b[49m\u001b[43m,\u001b[49m\u001b[43m \u001b[49m\u001b[43mreset\u001b[49m\u001b[38;5;241;43m=\u001b[39;49m\u001b[43mreset\u001b[49m\u001b[43m)\u001b[49m\n\u001b[1;32m    550\u001b[0m     \u001b[38;5;28;01mif\u001b[39;00m y \u001b[38;5;129;01mis\u001b[39;00m \u001b[38;5;28;01mNone\u001b[39;00m \u001b[38;5;129;01mand\u001b[39;00m \u001b[38;5;28mself\u001b[39m\u001b[38;5;241m.\u001b[39m_get_tags()[\u001b[38;5;124m\"\u001b[39m\u001b[38;5;124mrequires_y\u001b[39m\u001b[38;5;124m\"\u001b[39m]:\n\u001b[1;32m    551\u001b[0m         \u001b[38;5;28;01mraise\u001b[39;00m \u001b[38;5;167;01mValueError\u001b[39;00m(\n\u001b[1;32m    552\u001b[0m             \u001b[38;5;124mf\u001b[39m\u001b[38;5;124m\"\u001b[39m\u001b[38;5;124mThis \u001b[39m\u001b[38;5;132;01m{\u001b[39;00m\u001b[38;5;28mself\u001b[39m\u001b[38;5;241m.\u001b[39m\u001b[38;5;18m__class__\u001b[39m\u001b[38;5;241m.\u001b[39m\u001b[38;5;18m__name__\u001b[39m\u001b[38;5;132;01m}\u001b[39;00m\u001b[38;5;124m estimator \u001b[39m\u001b[38;5;124m\"\u001b[39m\n\u001b[1;32m    553\u001b[0m             \u001b[38;5;124m\"\u001b[39m\u001b[38;5;124mrequires y to be passed, but the target y is None.\u001b[39m\u001b[38;5;124m\"\u001b[39m\n\u001b[1;32m    554\u001b[0m         )\n",
      "File \u001b[0;32m/opt/conda/lib/python3.10/site-packages/sklearn/base.py:481\u001b[0m, in \u001b[0;36mBaseEstimator._check_feature_names\u001b[0;34m(self, X, reset)\u001b[0m\n\u001b[1;32m    476\u001b[0m \u001b[38;5;28;01mif\u001b[39;00m \u001b[38;5;129;01mnot\u001b[39;00m missing_names \u001b[38;5;129;01mand\u001b[39;00m \u001b[38;5;129;01mnot\u001b[39;00m unexpected_names:\n\u001b[1;32m    477\u001b[0m     message \u001b[38;5;241m+\u001b[39m\u001b[38;5;241m=\u001b[39m (\n\u001b[1;32m    478\u001b[0m         \u001b[38;5;124m\"\u001b[39m\u001b[38;5;124mFeature names must be in the same order as they were in fit.\u001b[39m\u001b[38;5;130;01m\\n\u001b[39;00m\u001b[38;5;124m\"\u001b[39m\n\u001b[1;32m    479\u001b[0m     )\n\u001b[0;32m--> 481\u001b[0m \u001b[38;5;28;01mraise\u001b[39;00m \u001b[38;5;167;01mValueError\u001b[39;00m(message)\n",
      "\u001b[0;31mValueError\u001b[0m: The feature names should match those that were passed during fit.\nFeature names seen at fit time, yet now missing:\n- Life expectancy \n"
     ]
    }
   ],
   "source": [
    "# dftrain_get ile sütunları uyumlu hale getirme\n",
    "dftest_get = dftest_get[dftrain_get.columns]\n",
    "\n",
    "# Eğitilmiş modeli kullanarak tahmin yap\n",
    "predictions = predict_model(model, data=dftest_get)\n",
    "\n",
    "# 'Row_id' ve 'Predicted_Life_Expectancy' sütunlarını içeren bir submission veri çerçevesi oluştur\n",
    "submission = dftest_get[['Row_id']]\n",
    "submission['Predicted_Life_Expectancy'] = predictions['Label']\n",
    "\n",
    "# Submission dosyasını CSV olarak kaydetme\n",
    "submission.to_csv('submission.csv', index=False)"
   ]
  },
  {
   "cell_type": "code",
   "execution_count": null,
   "metadata": {},
   "outputs": [],
   "source": []
  }
 ],
 "metadata": {
  "kaggle": {
   "accelerator": "none",
   "dataSources": [
    {
     "databundleVersionId": 7187397,
     "sourceId": 65350,
     "sourceType": "competition"
    }
   ],
   "dockerImageVersionId": 30615,
   "isGpuEnabled": false,
   "isInternetEnabled": true,
   "language": "python",
   "sourceType": "notebook"
  },
  "kernelspec": {
   "display_name": "Python 3 (ipykernel)",
   "language": "python",
   "name": "python3"
  },
  "language_info": {
   "codemirror_mode": {
    "name": "ipython",
    "version": 3
   },
   "file_extension": ".py",
   "mimetype": "text/x-python",
   "name": "python",
   "nbconvert_exporter": "python",
   "pygments_lexer": "ipython3",
   "version": "3.10.9"
  }
 },
 "nbformat": 4,
 "nbformat_minor": 4
}
